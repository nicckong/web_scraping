{
 "cells": [
  {
   "cell_type": "code",
   "execution_count": 3,
   "metadata": {
    "ExecuteTime": {
     "end_time": "2018-04-09T07:48:30.903552Z",
     "start_time": "2018-04-09T07:48:30.888099Z"
    }
   },
   "outputs": [],
   "source": [
    "import requests\n",
    "from lxml import html\n",
    "from time import sleep\n",
    "import pandas as pd\n",
    "from random import randint\n",
    "import re\n",
    "import matplotlib.pyplot as plt\n",
    "import seaborn as sns\n",
    "%matplotlib inline"
   ]
  },
  {
   "cell_type": "code",
   "execution_count": 9,
   "metadata": {
    "ExecuteTime": {
     "end_time": "2018-04-01T14:12:30.270360Z",
     "start_time": "2018-04-01T14:12:30.259413Z"
    }
   },
   "outputs": [],
   "source": [
    "user_agent = 'Mozilla/5.0 (Macintosh; Intel Mac OS X 10_13_3) AppleWebKit/604.5.6 (KHTML, like Gecko) Version/11.0.3 Safari/604.5.6'\n",
    "headers = {'User-Agent': user_agent}"
   ]
  },
  {
   "cell_type": "code",
   "execution_count": 10,
   "metadata": {
    "ExecuteTime": {
     "end_time": "2018-04-01T14:12:31.082650Z",
     "start_time": "2018-04-01T14:12:31.075675Z"
    }
   },
   "outputs": [],
   "source": [
    "xpath_reviews = '//div[@data-hook=\"review\"]'\n",
    "xpath_product = '//*[@id=\"cm_cr-product_info\"]//h1/a//text()'\n",
    "xpath_next = '//*[@id=\"cm_cr-pagination_bar\"]/ul/li[5]/a/@class'"
   ]
  },
  {
   "cell_type": "code",
   "execution_count": 11,
   "metadata": {
    "ExecuteTime": {
     "end_time": "2018-04-01T14:12:31.668118Z",
     "start_time": "2018-04-01T14:12:31.660281Z"
    }
   },
   "outputs": [],
   "source": [
    "xpath_rating  = './/i[@data-hook=\"review-star-rating\"]//text()' \n",
    "xpath_title   = './/a[@data-hook=\"review-title\"]//text()'\n",
    "xpath_author  = './/a[@data-hook=\"review-author\"]//text()'\n",
    "xpath_date    = './/span[@data-hook=\"review-date\"]//text()'\n",
    "xpath_body    = './/span[@data-hook=\"review-body\"]//text()'\n",
    "xpath_helpful = './/span[@data-hook=\"helpful-vote-statement\"]//text()'"
   ]
  },
  {
   "cell_type": "code",
   "execution_count": 22,
   "metadata": {
    "ExecuteTime": {
     "end_time": "2018-04-02T09:50:41.672337Z",
     "start_time": "2018-04-02T09:35:13.140663Z"
    }
   },
   "outputs": [
    {
     "name": "stdout",
     "output_type": "stream",
     "text": [
      "B01MSZ036Q ['Dyson V7 Motorhead Cord Free Vacuum'] 48\n",
      "B0748TR6Q1 ['Dyson V7 Trigger Cord-Free Handheld Vacuum'] 7\n",
      "B01NAGRRRU ['Dyson Ball Multi Floor 2 Upright Vacuum'] 45\n",
      "B0798B31TC ['Dyson Cyclone V10 Motorhead Lightweight Cordless Stick Vacuum Cleaner'] 3\n",
      "B0798LCJK9 ['Dyson Cyclone V10 Animal Lightweight Cordless Stick Vacuum Cleaner'] 3\n",
      "B06XFLXY8S ['Dyson V8 Absolute Cordless HEPA Vacuum Cleaner + Fluffy Soft Roller and Direct Drive Cleaner Head + Wand Set + Mini Motorized Tool + Dusting Brush + Docking Station + Combination Tool + Crevice Tool'] 8\n"
     ]
    }
   ],
   "source": [
    "product_list = ['B01MSZ036Q', \n",
    "                'B0748TR6Q1', 'B01NAGRRRU', 'B0798B31TC', 'B0798LCJK9', 'B06XFLXY8S'] \n",
    "\n",
    "#'B01IENFJ14', 'B06XG7WKKL', 'B0798FVV6V'\n",
    "#reviews_df = pd.DataFrame()\n",
    "end_page = 1\n",
    "\n",
    "for product in product_list:\n",
    "    i = 1\n",
    "    while i <= end_page:\n",
    "        amazon_url = 'https://www.amazon.com/product-reviews/'+product+'?pageNumber='+str(i)\n",
    "        page = requests.get(amazon_url, headers = headers)        \n",
    "        parser = html.fromstring(page.content)\n",
    "\n",
    "        reviews = parser.xpath(xpath_reviews)\n",
    "        product_name = parser.xpath(xpath_product)\n",
    "        \n",
    "        if i == 1:\n",
    "            end_page = int(parser.xpath('//*[@id=\"cm_cr-pagination_bar\"]/ul/li//text()')[-3])\n",
    "        \n",
    "        for review in reviews:    \n",
    "            try:\n",
    "                helpful= int(re.findall('\\d+',review.xpath(xpath_helpful)[0])[0])\n",
    "            except IndexError:\n",
    "                try:\n",
    "                    if 'One' in re.findall('\\D+',review.xpath(xpath_helpful)[0])[0]:\n",
    "                        helpful = 1\n",
    "                    else: \n",
    "                        helpful = 0\n",
    "                except:\n",
    "                    helpful = 0\n",
    "                    \n",
    "            try:\n",
    "                comment = review.xpath(xpath_body)[0]\n",
    "            except IndexError:\n",
    "                comment = ''\n",
    "\n",
    "            review_dict = {'product_name': product_name[0], \n",
    "                           'rating': float(re.findall('[0-9*].[0-9*]',review.xpath(xpath_rating)[0])[0]),\n",
    "                           'title': review.xpath(xpath_title)[0], \n",
    "                           'author': review.xpath(xpath_author)[0], \n",
    "                           'date': review.xpath(xpath_date)[0][3:], \n",
    "                           'comment': comment, \n",
    "                           'helpful': helpful\n",
    "                          }\n",
    "            reviews_df = reviews_df.append(review_dict, ignore_index=True)\n",
    "        i += 1\n",
    "        sleep(randint(3, 11))\n",
    "    print (product, product_name, end_page)"
   ]
  },
  {
   "cell_type": "code",
   "execution_count": 23,
   "metadata": {
    "ExecuteTime": {
     "end_time": "2018-04-02T09:50:41.756875Z",
     "start_time": "2018-04-02T09:50:41.714742Z"
    }
   },
   "outputs": [
    {
     "data": {
      "text/html": [
       "<div>\n",
       "<style scoped>\n",
       "    .dataframe tbody tr th:only-of-type {\n",
       "        vertical-align: middle;\n",
       "    }\n",
       "\n",
       "    .dataframe tbody tr th {\n",
       "        vertical-align: top;\n",
       "    }\n",
       "\n",
       "    .dataframe thead th {\n",
       "        text-align: right;\n",
       "    }\n",
       "</style>\n",
       "<table border=\"1\" class=\"dataframe\">\n",
       "  <thead>\n",
       "    <tr style=\"text-align: right;\">\n",
       "      <th></th>\n",
       "      <th>author</th>\n",
       "      <th>comment</th>\n",
       "      <th>date</th>\n",
       "      <th>helpful</th>\n",
       "      <th>product_name</th>\n",
       "      <th>rating</th>\n",
       "      <th>title</th>\n",
       "    </tr>\n",
       "  </thead>\n",
       "  <tbody>\n",
       "    <tr>\n",
       "      <th>0</th>\n",
       "      <td>htieguba</td>\n",
       "      <td>When I purchased my first Dyson V6 two years a...</td>\n",
       "      <td>August 24, 2016</td>\n",
       "      <td>1.0</td>\n",
       "      <td>Dyson V8 Absolute Cord-Free Vacuum</td>\n",
       "      <td>4.0</td>\n",
       "      <td>Doesn't Warrant an Upgrade from the V6</td>\n",
       "    </tr>\n",
       "    <tr>\n",
       "      <th>1</th>\n",
       "      <td>PaPe</td>\n",
       "      <td>Got mine yesterday, charged it, vacuumed my do...</td>\n",
       "      <td>April 28, 2017</td>\n",
       "      <td>888.0</td>\n",
       "      <td>Dyson V8 Absolute Cord-Free Vacuum</td>\n",
       "      <td>3.0</td>\n",
       "      <td>I'll say that it picked up quite well and I ab...</td>\n",
       "    </tr>\n",
       "    <tr>\n",
       "      <th>2</th>\n",
       "      <td>Consumer</td>\n",
       "      <td>I find it hard to believe that a company that ...</td>\n",
       "      <td>January 3, 2017</td>\n",
       "      <td>1.0</td>\n",
       "      <td>Dyson V8 Absolute Cord-Free Vacuum</td>\n",
       "      <td>1.0</td>\n",
       "      <td>I wish Dyson could innovate their customer ser...</td>\n",
       "    </tr>\n",
       "    <tr>\n",
       "      <th>3</th>\n",
       "      <td>Bob125</td>\n",
       "      <td>We have used a V6 for several years and we wer...</td>\n",
       "      <td>December 4, 2016</td>\n",
       "      <td>552.0</td>\n",
       "      <td>Dyson V8 Absolute Cord-Free Vacuum</td>\n",
       "      <td>5.0</td>\n",
       "      <td>Dyson V6 compared to the Dyson V8</td>\n",
       "    </tr>\n",
       "    <tr>\n",
       "      <th>4</th>\n",
       "      <td>Harlan</td>\n",
       "      <td>Don't get the power head caught in a rug or th...</td>\n",
       "      <td>July 19, 2017</td>\n",
       "      <td>41.0</td>\n",
       "      <td>Dyson V8 Absolute Cord-Free Vacuum</td>\n",
       "      <td>1.0</td>\n",
       "      <td>Plastic gears strip in powerhead</td>\n",
       "    </tr>\n",
       "    <tr>\n",
       "      <th>5</th>\n",
       "      <td>D. Cole</td>\n",
       "      <td>I want to give this 4.5 stars but I cant. Now,...</td>\n",
       "      <td>June 6, 2017</td>\n",
       "      <td>19.0</td>\n",
       "      <td>Dyson V8 Absolute Cord-Free Vacuum</td>\n",
       "      <td>5.0</td>\n",
       "      <td>Am I nuts paying this much for a vacuum???</td>\n",
       "    </tr>\n",
       "    <tr>\n",
       "      <th>6</th>\n",
       "      <td>Dave</td>\n",
       "      <td>I have never owned a Dyson before, but I had h...</td>\n",
       "      <td>August 30, 2016</td>\n",
       "      <td>1.0</td>\n",
       "      <td>Dyson V8 Absolute Cord-Free Vacuum</td>\n",
       "      <td>1.0</td>\n",
       "      <td>I wish I hadn't bought this.......</td>\n",
       "    </tr>\n",
       "    <tr>\n",
       "      <th>7</th>\n",
       "      <td>Marilyn M.</td>\n",
       "      <td>Wow, was my first thought, on the first use......</td>\n",
       "      <td>June 3, 2017</td>\n",
       "      <td>14.0</td>\n",
       "      <td>Dyson V8 Absolute Cord-Free Vacuum</td>\n",
       "      <td>5.0</td>\n",
       "      <td>Amazing</td>\n",
       "    </tr>\n",
       "    <tr>\n",
       "      <th>8</th>\n",
       "      <td>JDC</td>\n",
       "      <td>For the price this vacuum leaves a lot to be d...</td>\n",
       "      <td>August 4, 2017</td>\n",
       "      <td>13.0</td>\n",
       "      <td>Dyson V8 Absolute Cord-Free Vacuum</td>\n",
       "      <td>3.0</td>\n",
       "      <td>Leaves a lot to be desired</td>\n",
       "    </tr>\n",
       "    <tr>\n",
       "      <th>9</th>\n",
       "      <td>R</td>\n",
       "      <td>We were really excited when we purchased this ...</td>\n",
       "      <td>January 20, 2018</td>\n",
       "      <td>19.0</td>\n",
       "      <td>Dyson V8 Absolute Cord-Free Vacuum</td>\n",
       "      <td>1.0</td>\n",
       "      <td>One year later - BUYER'S REMORSE</td>\n",
       "    </tr>\n",
       "    <tr>\n",
       "      <th>10</th>\n",
       "      <td>Jacky</td>\n",
       "      <td></td>\n",
       "      <td>December 26, 2016</td>\n",
       "      <td>21.0</td>\n",
       "      <td>Dyson V8 Absolute Cord-Free Vacuum</td>\n",
       "      <td>5.0</td>\n",
       "      <td>Five Stars</td>\n",
       "    </tr>\n",
       "    <tr>\n",
       "      <th>11</th>\n",
       "      <td>Chris</td>\n",
       "      <td>I received a use beat up unit and not even the...</td>\n",
       "      <td>May 1, 2017</td>\n",
       "      <td>37.0</td>\n",
       "      <td>Dyson V8 Absolute Cord-Free Vacuum</td>\n",
       "      <td>1.0</td>\n",
       "      <td>Dyson has the worst customer care ever and tol...</td>\n",
       "    </tr>\n",
       "    <tr>\n",
       "      <th>12</th>\n",
       "      <td>Donny</td>\n",
       "      <td>I purchased this vacuum from the official Dyso...</td>\n",
       "      <td>November 27, 2016</td>\n",
       "      <td>79.0</td>\n",
       "      <td>Dyson V8 Absolute Cord-Free Vacuum</td>\n",
       "      <td>5.0</td>\n",
       "      <td>V8 Absolute</td>\n",
       "    </tr>\n",
       "    <tr>\n",
       "      <th>13</th>\n",
       "      <td>Nathaniel Meyer</td>\n",
       "      <td>I was very excited to receive this vacuum, but...</td>\n",
       "      <td>January 17, 2017</td>\n",
       "      <td>55.0</td>\n",
       "      <td>Dyson V8 Absolute Cord-Free Vacuum</td>\n",
       "      <td>1.0</td>\n",
       "      <td>When it worked it worked great, but it runs ou...</td>\n",
       "    </tr>\n",
       "    <tr>\n",
       "      <th>14</th>\n",
       "      <td>Vicky B</td>\n",
       "      <td>I purposely waited for the V8 to come out, bec...</td>\n",
       "      <td>December 14, 2017</td>\n",
       "      <td>14.0</td>\n",
       "      <td>Dyson V8 Absolute Cord-Free Vacuum</td>\n",
       "      <td>5.0</td>\n",
       "      <td>Has A design flaw,but...</td>\n",
       "    </tr>\n",
       "    <tr>\n",
       "      <th>15</th>\n",
       "      <td>N. Yablok</td>\n",
       "      <td>This is one expensive cordless vacuum so I giv...</td>\n",
       "      <td>October 10, 2016</td>\n",
       "      <td>26.0</td>\n",
       "      <td>Dyson V8 Absolute Cord-Free Vacuum</td>\n",
       "      <td>5.0</td>\n",
       "      <td>Cleaning with Oomph.</td>\n",
       "    </tr>\n",
       "    <tr>\n",
       "      <th>16</th>\n",
       "      <td>Mary M</td>\n",
       "      <td>I really wanted to love this. Shopped around l...</td>\n",
       "      <td>April 12, 2017</td>\n",
       "      <td>32.0</td>\n",
       "      <td>Dyson V8 Absolute Cord-Free Vacuum</td>\n",
       "      <td>1.0</td>\n",
       "      <td>Poor Quality for Price</td>\n",
       "    </tr>\n",
       "    <tr>\n",
       "      <th>17</th>\n",
       "      <td>Trebor</td>\n",
       "      <td>This would be our second Dyson cordless vacuum...</td>\n",
       "      <td>December 2, 2016</td>\n",
       "      <td>33.0</td>\n",
       "      <td>Dyson V8 Absolute Cord-Free Vacuum</td>\n",
       "      <td>4.0</td>\n",
       "      <td>Vast improvement from earlier cordless units</td>\n",
       "    </tr>\n",
       "    <tr>\n",
       "      <th>18</th>\n",
       "      <td>D. Salish</td>\n",
       "      <td>ABSOLUTELY FANTASTIC!  I owned an older model ...</td>\n",
       "      <td>January 9, 2017</td>\n",
       "      <td>9.0</td>\n",
       "      <td>Dyson V8 Absolute Cord-Free Vacuum</td>\n",
       "      <td>5.0</td>\n",
       "      <td>ABSOLUTELY FANTASTIC! I owned an older model t...</td>\n",
       "    </tr>\n",
       "    <tr>\n",
       "      <th>19</th>\n",
       "      <td>BP</td>\n",
       "      <td>for something so expensive you would think tha...</td>\n",
       "      <td>May 13, 2017</td>\n",
       "      <td>11.0</td>\n",
       "      <td>Dyson V8 Absolute Cord-Free Vacuum</td>\n",
       "      <td>1.0</td>\n",
       "      <td>lousy</td>\n",
       "    </tr>\n",
       "    <tr>\n",
       "      <th>20</th>\n",
       "      <td>DethElf</td>\n",
       "      <td>I love the convenience of this vacuum, but the...</td>\n",
       "      <td>November 10, 2017</td>\n",
       "      <td>6.0</td>\n",
       "      <td>Dyson V8 Absolute Cord-Free Vacuum</td>\n",
       "      <td>3.0</td>\n",
       "      <td>Great Vacuum with a Painful Handle</td>\n",
       "    </tr>\n",
       "    <tr>\n",
       "      <th>21</th>\n",
       "      <td>Sasha</td>\n",
       "      <td>I never thought I would be so happy with a vac...</td>\n",
       "      <td>March 25, 2017</td>\n",
       "      <td>7.0</td>\n",
       "      <td>Dyson V8 Absolute Cord-Free Vacuum</td>\n",
       "      <td>5.0</td>\n",
       "      <td>I never thought I would be so happy with a vacuum</td>\n",
       "    </tr>\n",
       "    <tr>\n",
       "      <th>22</th>\n",
       "      <td>George S.</td>\n",
       "      <td>Stopped working after one day. will not turn b...</td>\n",
       "      <td>December 28, 2016</td>\n",
       "      <td>30.0</td>\n",
       "      <td>Dyson V8 Absolute Cord-Free Vacuum</td>\n",
       "      <td>1.0</td>\n",
       "      <td>One Star</td>\n",
       "    </tr>\n",
       "    <tr>\n",
       "      <th>23</th>\n",
       "      <td>Pete Brown</td>\n",
       "      <td>I have a V6 and love it. I thought the V8 woul...</td>\n",
       "      <td>October 14, 2016</td>\n",
       "      <td>20.0</td>\n",
       "      <td>Dyson V8 Absolute Cord-Free Vacuum</td>\n",
       "      <td>3.0</td>\n",
       "      <td>A possible problem with the new V8</td>\n",
       "    </tr>\n",
       "    <tr>\n",
       "      <th>24</th>\n",
       "      <td>Maksym Aristov</td>\n",
       "      <td>Pros:</td>\n",
       "      <td>August 31, 2017</td>\n",
       "      <td>15.0</td>\n",
       "      <td>Dyson V8 Absolute Cord-Free Vacuum</td>\n",
       "      <td>3.0</td>\n",
       "      <td>Runs only 8 minutes on max suction with motori...</td>\n",
       "    </tr>\n",
       "    <tr>\n",
       "      <th>25</th>\n",
       "      <td>Joey V Huddleston</td>\n",
       "      <td>For someone who has a pet that sheds fur and h...</td>\n",
       "      <td>December 6, 2016</td>\n",
       "      <td>9.0</td>\n",
       "      <td>Dyson V8 Absolute Cord-Free Vacuum</td>\n",
       "      <td>5.0</td>\n",
       "      <td>Best one for hardwood and pet hair</td>\n",
       "    </tr>\n",
       "    <tr>\n",
       "      <th>26</th>\n",
       "      <td>Michael Conner</td>\n",
       "      <td>We are giving this an average review consideri...</td>\n",
       "      <td>December 17, 2016</td>\n",
       "      <td>22.0</td>\n",
       "      <td>Dyson V8 Absolute Cord-Free Vacuum</td>\n",
       "      <td>3.0</td>\n",
       "      <td>A great vacuum for some people and useless for...</td>\n",
       "    </tr>\n",
       "    <tr>\n",
       "      <th>27</th>\n",
       "      <td>Holley D</td>\n",
       "      <td>This is by far the best vacuum I have owned. I...</td>\n",
       "      <td>September 12, 2017</td>\n",
       "      <td>8.0</td>\n",
       "      <td>Dyson V8 Absolute Cord-Free Vacuum</td>\n",
       "      <td>4.0</td>\n",
       "      <td>Best vacuum I have owned, only one downside</td>\n",
       "    </tr>\n",
       "    <tr>\n",
       "      <th>28</th>\n",
       "      <td>julie</td>\n",
       "      <td>Pros: It works well on the hardwood and tile t...</td>\n",
       "      <td>May 20, 2017</td>\n",
       "      <td>7.0</td>\n",
       "      <td>Dyson V8 Absolute Cord-Free Vacuum</td>\n",
       "      <td>3.0</td>\n",
       "      <td>Does a great job but Dyson needs to tweak the ...</td>\n",
       "    </tr>\n",
       "    <tr>\n",
       "      <th>29</th>\n",
       "      <td>random bob, a.r.c.</td>\n",
       "      <td>I had been toying with the idea of getting a s...</td>\n",
       "      <td>December 12, 2017</td>\n",
       "      <td>4.0</td>\n",
       "      <td>Dyson V8 Absolute Cord-Free Vacuum</td>\n",
       "      <td>2.0</td>\n",
       "      <td>Concept of convenience is nice, reality is sor...</td>\n",
       "    </tr>\n",
       "    <tr>\n",
       "      <th>...</th>\n",
       "      <td>...</td>\n",
       "      <td>...</td>\n",
       "      <td>...</td>\n",
       "      <td>...</td>\n",
       "      <td>...</td>\n",
       "      <td>...</td>\n",
       "      <td>...</td>\n",
       "    </tr>\n",
       "    <tr>\n",
       "      <th>3344</th>\n",
       "      <td>Amazon Customer</td>\n",
       "      <td>It cleans all floors with ease and can do the ...</td>\n",
       "      <td>July 9, 2017</td>\n",
       "      <td>1.0</td>\n",
       "      <td>Dyson V8 Absolute Cordless HEPA Vacuum Cleaner...</td>\n",
       "      <td>5.0</td>\n",
       "      <td>Cleaning is a breeze!</td>\n",
       "    </tr>\n",
       "    <tr>\n",
       "      <th>3345</th>\n",
       "      <td>Richard Russo</td>\n",
       "      <td>I love it.  Very convenient, easy to use.  We ...</td>\n",
       "      <td>October 5, 2017</td>\n",
       "      <td>1.0</td>\n",
       "      <td>Dyson V8 Absolute Cordless HEPA Vacuum Cleaner...</td>\n",
       "      <td>5.0</td>\n",
       "      <td>I love it. Very convenient</td>\n",
       "    </tr>\n",
       "    <tr>\n",
       "      <th>3346</th>\n",
       "      <td>Deborah J Toney</td>\n",
       "      <td>parents great it lite and easy to get to those...</td>\n",
       "      <td>May 11, 2017</td>\n",
       "      <td>2.0</td>\n",
       "      <td>Dyson V8 Absolute Cordless HEPA Vacuum Cleaner...</td>\n",
       "      <td>5.0</td>\n",
       "      <td>Five Stars</td>\n",
       "    </tr>\n",
       "    <tr>\n",
       "      <th>3347</th>\n",
       "      <td>William H. Kassner</td>\n",
       "      <td>I've been a Dyson fan for years this is like a...</td>\n",
       "      <td>September 11, 2017</td>\n",
       "      <td>0.0</td>\n",
       "      <td>Dyson V8 Absolute Cordless HEPA Vacuum Cleaner...</td>\n",
       "      <td>5.0</td>\n",
       "      <td>I've been a Dyson fan for years this is like a...</td>\n",
       "    </tr>\n",
       "    <tr>\n",
       "      <th>3348</th>\n",
       "      <td>Jinho Jonathon Lee</td>\n",
       "      <td>Best cordless vacuum. Light weight, strong suc...</td>\n",
       "      <td>August 6, 2017</td>\n",
       "      <td>0.0</td>\n",
       "      <td>Dyson V8 Absolute Cordless HEPA Vacuum Cleaner...</td>\n",
       "      <td>5.0</td>\n",
       "      <td>Five Stars</td>\n",
       "    </tr>\n",
       "    <tr>\n",
       "      <th>3349</th>\n",
       "      <td>Amazon Customer</td>\n",
       "      <td>I was loving this and after having 4 months it...</td>\n",
       "      <td>February 5, 2018</td>\n",
       "      <td>1.0</td>\n",
       "      <td>Dyson V8 Absolute Cordless HEPA Vacuum Cleaner...</td>\n",
       "      <td>1.0</td>\n",
       "      <td>I was loving this and after having 4 months it...</td>\n",
       "    </tr>\n",
       "    <tr>\n",
       "      <th>3350</th>\n",
       "      <td>Amazon Kunde</td>\n",
       "      <td>Very good~~</td>\n",
       "      <td>April 23, 2017</td>\n",
       "      <td>2.0</td>\n",
       "      <td>Dyson V8 Absolute Cordless HEPA Vacuum Cleaner...</td>\n",
       "      <td>5.0</td>\n",
       "      <td>Five Stars</td>\n",
       "    </tr>\n",
       "    <tr>\n",
       "      <th>3351</th>\n",
       "      <td>Saundra J.</td>\n",
       "      <td>How did l make it with out this. Works great.E...</td>\n",
       "      <td>July 12, 2017</td>\n",
       "      <td>0.0</td>\n",
       "      <td>Dyson V8 Absolute Cordless HEPA Vacuum Cleaner...</td>\n",
       "      <td>5.0</td>\n",
       "      <td>great helper</td>\n",
       "    </tr>\n",
       "    <tr>\n",
       "      <th>3352</th>\n",
       "      <td>Therese</td>\n",
       "      <td>I love the power of the suction and the fact t...</td>\n",
       "      <td>August 24, 2017</td>\n",
       "      <td>0.0</td>\n",
       "      <td>Dyson V8 Absolute Cordless HEPA Vacuum Cleaner...</td>\n",
       "      <td>5.0</td>\n",
       "      <td>Five Stars</td>\n",
       "    </tr>\n",
       "    <tr>\n",
       "      <th>3353</th>\n",
       "      <td>Amazon Customer</td>\n",
       "      <td>This is not a verified purchase because a year...</td>\n",
       "      <td>October 29, 2017</td>\n",
       "      <td>7.0</td>\n",
       "      <td>Dyson V8 Absolute Cordless HEPA Vacuum Cleaner...</td>\n",
       "      <td>4.0</td>\n",
       "      <td>Superb lightweight versatile vacuum cleaner bu...</td>\n",
       "    </tr>\n",
       "    <tr>\n",
       "      <th>3354</th>\n",
       "      <td>Amazon Customer</td>\n",
       "      <td>Great!  Does everything I need, and love all t...</td>\n",
       "      <td>April 4, 2017</td>\n",
       "      <td>14.0</td>\n",
       "      <td>Dyson V8 Absolute Cordless HEPA Vacuum Cleaner...</td>\n",
       "      <td>5.0</td>\n",
       "      <td>Love it</td>\n",
       "    </tr>\n",
       "    <tr>\n",
       "      <th>3355</th>\n",
       "      <td>Amazon Customer</td>\n",
       "      <td>It's different from the existing vacuum cleane...</td>\n",
       "      <td>April 24, 2017</td>\n",
       "      <td>2.0</td>\n",
       "      <td>Dyson V8 Absolute Cordless HEPA Vacuum Cleaner...</td>\n",
       "      <td>5.0</td>\n",
       "      <td>It's too good to be there once. There is no su...</td>\n",
       "    </tr>\n",
       "    <tr>\n",
       "      <th>3356</th>\n",
       "      <td>Ross</td>\n",
       "      <td>Dyson should be ashamed of itself for both the...</td>\n",
       "      <td>February 25, 2018</td>\n",
       "      <td>2.0</td>\n",
       "      <td>Dyson V8 Absolute Cordless HEPA Vacuum Cleaner...</td>\n",
       "      <td>1.0</td>\n",
       "      <td>When working it is powerful with good suction....</td>\n",
       "    </tr>\n",
       "    <tr>\n",
       "      <th>3357</th>\n",
       "      <td>Amazon Customer</td>\n",
       "      <td>This is the best vacuum cleaner we have ever h...</td>\n",
       "      <td>November 10, 2017</td>\n",
       "      <td>2.0</td>\n",
       "      <td>Dyson V8 Absolute Cordless HEPA Vacuum Cleaner...</td>\n",
       "      <td>5.0</td>\n",
       "      <td>Best Vacuum Cleaner Ever!</td>\n",
       "    </tr>\n",
       "    <tr>\n",
       "      <th>3358</th>\n",
       "      <td>Kindle Customer</td>\n",
       "      <td>Best hand vacuum I've ever had, and I've gone ...</td>\n",
       "      <td>September 17, 2017</td>\n",
       "      <td>1.0</td>\n",
       "      <td>Dyson V8 Absolute Cordless HEPA Vacuum Cleaner...</td>\n",
       "      <td>5.0</td>\n",
       "      <td>Best vacuum!</td>\n",
       "    </tr>\n",
       "    <tr>\n",
       "      <th>3359</th>\n",
       "      <td>Richard 7 Diane Pawloski</td>\n",
       "      <td>amazing product - takes some organization and ...</td>\n",
       "      <td>September 26, 2017</td>\n",
       "      <td>1.0</td>\n",
       "      <td>Dyson V8 Absolute Cordless HEPA Vacuum Cleaner...</td>\n",
       "      <td>5.0</td>\n",
       "      <td>amazing product - takes some organization and ...</td>\n",
       "    </tr>\n",
       "    <tr>\n",
       "      <th>3360</th>\n",
       "      <td>Amazon Customer</td>\n",
       "      <td>List what inside as extra. Charge higher price...</td>\n",
       "      <td>September 13, 2017</td>\n",
       "      <td>6.0</td>\n",
       "      <td>Dyson V8 Absolute Cordless HEPA Vacuum Cleaner...</td>\n",
       "      <td>1.0</td>\n",
       "      <td>One Star</td>\n",
       "    </tr>\n",
       "    <tr>\n",
       "      <th>3361</th>\n",
       "      <td>Kelly Kelly</td>\n",
       "      <td>The Dyson V8 is a great vacuum. My only compla...</td>\n",
       "      <td>August 14, 2017</td>\n",
       "      <td>4.0</td>\n",
       "      <td>Dyson V8 Absolute Cordless HEPA Vacuum Cleaner...</td>\n",
       "      <td>4.0</td>\n",
       "      <td>Great vacuum, only one complaint</td>\n",
       "    </tr>\n",
       "    <tr>\n",
       "      <th>3362</th>\n",
       "      <td>scobbydo</td>\n",
       "      <td>THE BEST VACUUM EVER!!!,  GREAT DEAL</td>\n",
       "      <td>July 19, 2017</td>\n",
       "      <td>1.0</td>\n",
       "      <td>Dyson V8 Absolute Cordless HEPA Vacuum Cleaner...</td>\n",
       "      <td>5.0</td>\n",
       "      <td>Five Stars</td>\n",
       "    </tr>\n",
       "    <tr>\n",
       "      <th>3363</th>\n",
       "      <td>Judie Ketterer</td>\n",
       "      <td>It's so light but so powerful.  I'm very happy...</td>\n",
       "      <td>June 27, 2017</td>\n",
       "      <td>1.0</td>\n",
       "      <td>Dyson V8 Absolute Cordless HEPA Vacuum Cleaner...</td>\n",
       "      <td>5.0</td>\n",
       "      <td>I'm very happy with it</td>\n",
       "    </tr>\n",
       "    <tr>\n",
       "      <th>3364</th>\n",
       "      <td>Amazon Customer</td>\n",
       "      <td>It's perfect. With three kids there are always...</td>\n",
       "      <td>June 15, 2017</td>\n",
       "      <td>4.0</td>\n",
       "      <td>Dyson V8 Absolute Cordless HEPA Vacuum Cleaner...</td>\n",
       "      <td>5.0</td>\n",
       "      <td>It's perfect. With three kids there are always...</td>\n",
       "    </tr>\n",
       "    <tr>\n",
       "      <th>3365</th>\n",
       "      <td>Janet L.</td>\n",
       "      <td>This is a wonderful vacuum for our motor home....</td>\n",
       "      <td>March 9, 2018</td>\n",
       "      <td>0.0</td>\n",
       "      <td>Dyson V8 Absolute Cordless HEPA Vacuum Cleaner...</td>\n",
       "      <td>5.0</td>\n",
       "      <td>This is a wonderful vacuum for our motor home</td>\n",
       "    </tr>\n",
       "    <tr>\n",
       "      <th>3366</th>\n",
       "      <td>Christine E. Moorman</td>\n",
       "      <td>40 mins of run time on one charge in normal po...</td>\n",
       "      <td>October 23, 2017</td>\n",
       "      <td>2.0</td>\n",
       "      <td>Dyson V8 Absolute Cordless HEPA Vacuum Cleaner...</td>\n",
       "      <td>5.0</td>\n",
       "      <td>love it!</td>\n",
       "    </tr>\n",
       "    <tr>\n",
       "      <th>3367</th>\n",
       "      <td>Paula B.</td>\n",
       "      <td>I don't get the great reviews on this vacuum. ...</td>\n",
       "      <td>December 22, 2017</td>\n",
       "      <td>4.0</td>\n",
       "      <td>Dyson V8 Absolute Cordless HEPA Vacuum Cleaner...</td>\n",
       "      <td>1.0</td>\n",
       "      <td>I don't get the great reviews on this vacuum</td>\n",
       "    </tr>\n",
       "    <tr>\n",
       "      <th>3368</th>\n",
       "      <td>Luis B Lemos</td>\n",
       "      <td>Over priced!! Not for whole house vacuum Batte...</td>\n",
       "      <td>June 3, 2017</td>\n",
       "      <td>8.0</td>\n",
       "      <td>Dyson V8 Absolute Cordless HEPA Vacuum Cleaner...</td>\n",
       "      <td>3.0</td>\n",
       "      <td>Three Stars</td>\n",
       "    </tr>\n",
       "    <tr>\n",
       "      <th>3369</th>\n",
       "      <td>sooz</td>\n",
       "      <td>Vacuum is great.  I would like to see a longer...</td>\n",
       "      <td>March 16, 2018</td>\n",
       "      <td>0.0</td>\n",
       "      <td>Dyson V8 Absolute Cordless HEPA Vacuum Cleaner...</td>\n",
       "      <td>3.0</td>\n",
       "      <td>Vacuum is great. I would like to see a longer ...</td>\n",
       "    </tr>\n",
       "    <tr>\n",
       "      <th>3370</th>\n",
       "      <td>Amazon Customer</td>\n",
       "      <td>Great</td>\n",
       "      <td>July 22, 2017</td>\n",
       "      <td>0.0</td>\n",
       "      <td>Dyson V8 Absolute Cordless HEPA Vacuum Cleaner...</td>\n",
       "      <td>5.0</td>\n",
       "      <td>Five Stars</td>\n",
       "    </tr>\n",
       "    <tr>\n",
       "      <th>3371</th>\n",
       "      <td>doug</td>\n",
       "      <td>It picks up very well what a wonderful machine</td>\n",
       "      <td>July 20, 2017</td>\n",
       "      <td>0.0</td>\n",
       "      <td>Dyson V8 Absolute Cordless HEPA Vacuum Cleaner...</td>\n",
       "      <td>5.0</td>\n",
       "      <td>It picks up very well what a wonderful machine</td>\n",
       "    </tr>\n",
       "    <tr>\n",
       "      <th>3372</th>\n",
       "      <td>Amazon Customer</td>\n",
       "      <td>asdd</td>\n",
       "      <td>May 29, 2017</td>\n",
       "      <td>0.0</td>\n",
       "      <td>Dyson V8 Absolute Cordless HEPA Vacuum Cleaner...</td>\n",
       "      <td>5.0</td>\n",
       "      <td>Five Stars</td>\n",
       "    </tr>\n",
       "    <tr>\n",
       "      <th>3373</th>\n",
       "      <td>Amazon Customer</td>\n",
       "      <td>Most horrible one</td>\n",
       "      <td>July 30, 2017</td>\n",
       "      <td>4.0</td>\n",
       "      <td>Dyson V8 Absolute Cordless HEPA Vacuum Cleaner...</td>\n",
       "      <td>1.0</td>\n",
       "      <td>One Star</td>\n",
       "    </tr>\n",
       "  </tbody>\n",
       "</table>\n",
       "<p>3374 rows × 7 columns</p>\n",
       "</div>"
      ],
      "text/plain": [
       "                        author  \\\n",
       "0                     htieguba   \n",
       "1                         PaPe   \n",
       "2                     Consumer   \n",
       "3                       Bob125   \n",
       "4                       Harlan   \n",
       "5                      D. Cole   \n",
       "6                         Dave   \n",
       "7                   Marilyn M.   \n",
       "8                          JDC   \n",
       "9                            R   \n",
       "10                       Jacky   \n",
       "11                       Chris   \n",
       "12                       Donny   \n",
       "13             Nathaniel Meyer   \n",
       "14                     Vicky B   \n",
       "15                   N. Yablok   \n",
       "16                      Mary M   \n",
       "17                      Trebor   \n",
       "18                   D. Salish   \n",
       "19                          BP   \n",
       "20                     DethElf   \n",
       "21                       Sasha   \n",
       "22                   George S.   \n",
       "23                  Pete Brown   \n",
       "24              Maksym Aristov   \n",
       "25           Joey V Huddleston   \n",
       "26              Michael Conner   \n",
       "27                    Holley D   \n",
       "28                       julie   \n",
       "29          random bob, a.r.c.   \n",
       "...                        ...   \n",
       "3344           Amazon Customer   \n",
       "3345             Richard Russo   \n",
       "3346           Deborah J Toney   \n",
       "3347        William H. Kassner   \n",
       "3348        Jinho Jonathon Lee   \n",
       "3349           Amazon Customer   \n",
       "3350              Amazon Kunde   \n",
       "3351                Saundra J.   \n",
       "3352                   Therese   \n",
       "3353           Amazon Customer   \n",
       "3354           Amazon Customer   \n",
       "3355           Amazon Customer   \n",
       "3356                      Ross   \n",
       "3357           Amazon Customer   \n",
       "3358           Kindle Customer   \n",
       "3359  Richard 7 Diane Pawloski   \n",
       "3360           Amazon Customer   \n",
       "3361               Kelly Kelly   \n",
       "3362                  scobbydo   \n",
       "3363            Judie Ketterer   \n",
       "3364           Amazon Customer   \n",
       "3365                  Janet L.   \n",
       "3366      Christine E. Moorman   \n",
       "3367                  Paula B.   \n",
       "3368              Luis B Lemos   \n",
       "3369                      sooz   \n",
       "3370           Amazon Customer   \n",
       "3371                      doug   \n",
       "3372           Amazon Customer   \n",
       "3373           Amazon Customer   \n",
       "\n",
       "                                                comment                date  \\\n",
       "0     When I purchased my first Dyson V6 two years a...     August 24, 2016   \n",
       "1     Got mine yesterday, charged it, vacuumed my do...      April 28, 2017   \n",
       "2     I find it hard to believe that a company that ...     January 3, 2017   \n",
       "3     We have used a V6 for several years and we wer...    December 4, 2016   \n",
       "4     Don't get the power head caught in a rug or th...       July 19, 2017   \n",
       "5     I want to give this 4.5 stars but I cant. Now,...        June 6, 2017   \n",
       "6     I have never owned a Dyson before, but I had h...     August 30, 2016   \n",
       "7     Wow, was my first thought, on the first use......        June 3, 2017   \n",
       "8     For the price this vacuum leaves a lot to be d...      August 4, 2017   \n",
       "9     We were really excited when we purchased this ...    January 20, 2018   \n",
       "10                                                        December 26, 2016   \n",
       "11    I received a use beat up unit and not even the...         May 1, 2017   \n",
       "12    I purchased this vacuum from the official Dyso...   November 27, 2016   \n",
       "13    I was very excited to receive this vacuum, but...    January 17, 2017   \n",
       "14    I purposely waited for the V8 to come out, bec...   December 14, 2017   \n",
       "15    This is one expensive cordless vacuum so I giv...    October 10, 2016   \n",
       "16    I really wanted to love this. Shopped around l...      April 12, 2017   \n",
       "17    This would be our second Dyson cordless vacuum...    December 2, 2016   \n",
       "18    ABSOLUTELY FANTASTIC!  I owned an older model ...     January 9, 2017   \n",
       "19    for something so expensive you would think tha...        May 13, 2017   \n",
       "20    I love the convenience of this vacuum, but the...   November 10, 2017   \n",
       "21    I never thought I would be so happy with a vac...      March 25, 2017   \n",
       "22    Stopped working after one day. will not turn b...   December 28, 2016   \n",
       "23    I have a V6 and love it. I thought the V8 woul...    October 14, 2016   \n",
       "24                                                Pros:     August 31, 2017   \n",
       "25    For someone who has a pet that sheds fur and h...    December 6, 2016   \n",
       "26    We are giving this an average review consideri...   December 17, 2016   \n",
       "27    This is by far the best vacuum I have owned. I...  September 12, 2017   \n",
       "28    Pros: It works well on the hardwood and tile t...        May 20, 2017   \n",
       "29    I had been toying with the idea of getting a s...   December 12, 2017   \n",
       "...                                                 ...                 ...   \n",
       "3344  It cleans all floors with ease and can do the ...        July 9, 2017   \n",
       "3345  I love it.  Very convenient, easy to use.  We ...     October 5, 2017   \n",
       "3346  parents great it lite and easy to get to those...        May 11, 2017   \n",
       "3347  I've been a Dyson fan for years this is like a...  September 11, 2017   \n",
       "3348  Best cordless vacuum. Light weight, strong suc...      August 6, 2017   \n",
       "3349  I was loving this and after having 4 months it...    February 5, 2018   \n",
       "3350                                        Very good~~      April 23, 2017   \n",
       "3351  How did l make it with out this. Works great.E...       July 12, 2017   \n",
       "3352  I love the power of the suction and the fact t...     August 24, 2017   \n",
       "3353  This is not a verified purchase because a year...    October 29, 2017   \n",
       "3354  Great!  Does everything I need, and love all t...       April 4, 2017   \n",
       "3355  It's different from the existing vacuum cleane...      April 24, 2017   \n",
       "3356  Dyson should be ashamed of itself for both the...   February 25, 2018   \n",
       "3357  This is the best vacuum cleaner we have ever h...   November 10, 2017   \n",
       "3358  Best hand vacuum I've ever had, and I've gone ...  September 17, 2017   \n",
       "3359  amazing product - takes some organization and ...  September 26, 2017   \n",
       "3360  List what inside as extra. Charge higher price...  September 13, 2017   \n",
       "3361  The Dyson V8 is a great vacuum. My only compla...     August 14, 2017   \n",
       "3362               THE BEST VACUUM EVER!!!,  GREAT DEAL       July 19, 2017   \n",
       "3363  It's so light but so powerful.  I'm very happy...       June 27, 2017   \n",
       "3364  It's perfect. With three kids there are always...       June 15, 2017   \n",
       "3365  This is a wonderful vacuum for our motor home....       March 9, 2018   \n",
       "3366  40 mins of run time on one charge in normal po...    October 23, 2017   \n",
       "3367  I don't get the great reviews on this vacuum. ...   December 22, 2017   \n",
       "3368  Over priced!! Not for whole house vacuum Batte...        June 3, 2017   \n",
       "3369  Vacuum is great.  I would like to see a longer...      March 16, 2018   \n",
       "3370                                              Great       July 22, 2017   \n",
       "3371     It picks up very well what a wonderful machine       July 20, 2017   \n",
       "3372                                               asdd        May 29, 2017   \n",
       "3373                                  Most horrible one       July 30, 2017   \n",
       "\n",
       "      helpful                                       product_name  rating  \\\n",
       "0         1.0                 Dyson V8 Absolute Cord-Free Vacuum     4.0   \n",
       "1       888.0                 Dyson V8 Absolute Cord-Free Vacuum     3.0   \n",
       "2         1.0                 Dyson V8 Absolute Cord-Free Vacuum     1.0   \n",
       "3       552.0                 Dyson V8 Absolute Cord-Free Vacuum     5.0   \n",
       "4        41.0                 Dyson V8 Absolute Cord-Free Vacuum     1.0   \n",
       "5        19.0                 Dyson V8 Absolute Cord-Free Vacuum     5.0   \n",
       "6         1.0                 Dyson V8 Absolute Cord-Free Vacuum     1.0   \n",
       "7        14.0                 Dyson V8 Absolute Cord-Free Vacuum     5.0   \n",
       "8        13.0                 Dyson V8 Absolute Cord-Free Vacuum     3.0   \n",
       "9        19.0                 Dyson V8 Absolute Cord-Free Vacuum     1.0   \n",
       "10       21.0                 Dyson V8 Absolute Cord-Free Vacuum     5.0   \n",
       "11       37.0                 Dyson V8 Absolute Cord-Free Vacuum     1.0   \n",
       "12       79.0                 Dyson V8 Absolute Cord-Free Vacuum     5.0   \n",
       "13       55.0                 Dyson V8 Absolute Cord-Free Vacuum     1.0   \n",
       "14       14.0                 Dyson V8 Absolute Cord-Free Vacuum     5.0   \n",
       "15       26.0                 Dyson V8 Absolute Cord-Free Vacuum     5.0   \n",
       "16       32.0                 Dyson V8 Absolute Cord-Free Vacuum     1.0   \n",
       "17       33.0                 Dyson V8 Absolute Cord-Free Vacuum     4.0   \n",
       "18        9.0                 Dyson V8 Absolute Cord-Free Vacuum     5.0   \n",
       "19       11.0                 Dyson V8 Absolute Cord-Free Vacuum     1.0   \n",
       "20        6.0                 Dyson V8 Absolute Cord-Free Vacuum     3.0   \n",
       "21        7.0                 Dyson V8 Absolute Cord-Free Vacuum     5.0   \n",
       "22       30.0                 Dyson V8 Absolute Cord-Free Vacuum     1.0   \n",
       "23       20.0                 Dyson V8 Absolute Cord-Free Vacuum     3.0   \n",
       "24       15.0                 Dyson V8 Absolute Cord-Free Vacuum     3.0   \n",
       "25        9.0                 Dyson V8 Absolute Cord-Free Vacuum     5.0   \n",
       "26       22.0                 Dyson V8 Absolute Cord-Free Vacuum     3.0   \n",
       "27        8.0                 Dyson V8 Absolute Cord-Free Vacuum     4.0   \n",
       "28        7.0                 Dyson V8 Absolute Cord-Free Vacuum     3.0   \n",
       "29        4.0                 Dyson V8 Absolute Cord-Free Vacuum     2.0   \n",
       "...       ...                                                ...     ...   \n",
       "3344      1.0  Dyson V8 Absolute Cordless HEPA Vacuum Cleaner...     5.0   \n",
       "3345      1.0  Dyson V8 Absolute Cordless HEPA Vacuum Cleaner...     5.0   \n",
       "3346      2.0  Dyson V8 Absolute Cordless HEPA Vacuum Cleaner...     5.0   \n",
       "3347      0.0  Dyson V8 Absolute Cordless HEPA Vacuum Cleaner...     5.0   \n",
       "3348      0.0  Dyson V8 Absolute Cordless HEPA Vacuum Cleaner...     5.0   \n",
       "3349      1.0  Dyson V8 Absolute Cordless HEPA Vacuum Cleaner...     1.0   \n",
       "3350      2.0  Dyson V8 Absolute Cordless HEPA Vacuum Cleaner...     5.0   \n",
       "3351      0.0  Dyson V8 Absolute Cordless HEPA Vacuum Cleaner...     5.0   \n",
       "3352      0.0  Dyson V8 Absolute Cordless HEPA Vacuum Cleaner...     5.0   \n",
       "3353      7.0  Dyson V8 Absolute Cordless HEPA Vacuum Cleaner...     4.0   \n",
       "3354     14.0  Dyson V8 Absolute Cordless HEPA Vacuum Cleaner...     5.0   \n",
       "3355      2.0  Dyson V8 Absolute Cordless HEPA Vacuum Cleaner...     5.0   \n",
       "3356      2.0  Dyson V8 Absolute Cordless HEPA Vacuum Cleaner...     1.0   \n",
       "3357      2.0  Dyson V8 Absolute Cordless HEPA Vacuum Cleaner...     5.0   \n",
       "3358      1.0  Dyson V8 Absolute Cordless HEPA Vacuum Cleaner...     5.0   \n",
       "3359      1.0  Dyson V8 Absolute Cordless HEPA Vacuum Cleaner...     5.0   \n",
       "3360      6.0  Dyson V8 Absolute Cordless HEPA Vacuum Cleaner...     1.0   \n",
       "3361      4.0  Dyson V8 Absolute Cordless HEPA Vacuum Cleaner...     4.0   \n",
       "3362      1.0  Dyson V8 Absolute Cordless HEPA Vacuum Cleaner...     5.0   \n",
       "3363      1.0  Dyson V8 Absolute Cordless HEPA Vacuum Cleaner...     5.0   \n",
       "3364      4.0  Dyson V8 Absolute Cordless HEPA Vacuum Cleaner...     5.0   \n",
       "3365      0.0  Dyson V8 Absolute Cordless HEPA Vacuum Cleaner...     5.0   \n",
       "3366      2.0  Dyson V8 Absolute Cordless HEPA Vacuum Cleaner...     5.0   \n",
       "3367      4.0  Dyson V8 Absolute Cordless HEPA Vacuum Cleaner...     1.0   \n",
       "3368      8.0  Dyson V8 Absolute Cordless HEPA Vacuum Cleaner...     3.0   \n",
       "3369      0.0  Dyson V8 Absolute Cordless HEPA Vacuum Cleaner...     3.0   \n",
       "3370      0.0  Dyson V8 Absolute Cordless HEPA Vacuum Cleaner...     5.0   \n",
       "3371      0.0  Dyson V8 Absolute Cordless HEPA Vacuum Cleaner...     5.0   \n",
       "3372      0.0  Dyson V8 Absolute Cordless HEPA Vacuum Cleaner...     5.0   \n",
       "3373      4.0  Dyson V8 Absolute Cordless HEPA Vacuum Cleaner...     1.0   \n",
       "\n",
       "                                                  title  \n",
       "0                Doesn't Warrant an Upgrade from the V6  \n",
       "1     I'll say that it picked up quite well and I ab...  \n",
       "2     I wish Dyson could innovate their customer ser...  \n",
       "3                     Dyson V6 compared to the Dyson V8  \n",
       "4                      Plastic gears strip in powerhead  \n",
       "5            Am I nuts paying this much for a vacuum???  \n",
       "6                    I wish I hadn't bought this.......  \n",
       "7                                               Amazing  \n",
       "8                            Leaves a lot to be desired  \n",
       "9                      One year later - BUYER'S REMORSE  \n",
       "10                                           Five Stars  \n",
       "11    Dyson has the worst customer care ever and tol...  \n",
       "12                                          V8 Absolute  \n",
       "13    When it worked it worked great, but it runs ou...  \n",
       "14                             Has A design flaw,but...  \n",
       "15                                 Cleaning with Oomph.  \n",
       "16                               Poor Quality for Price  \n",
       "17         Vast improvement from earlier cordless units  \n",
       "18    ABSOLUTELY FANTASTIC! I owned an older model t...  \n",
       "19                                                lousy  \n",
       "20                   Great Vacuum with a Painful Handle  \n",
       "21    I never thought I would be so happy with a vacuum  \n",
       "22                                             One Star  \n",
       "23                   A possible problem with the new V8  \n",
       "24    Runs only 8 minutes on max suction with motori...  \n",
       "25                   Best one for hardwood and pet hair  \n",
       "26    A great vacuum for some people and useless for...  \n",
       "27          Best vacuum I have owned, only one downside  \n",
       "28    Does a great job but Dyson needs to tweak the ...  \n",
       "29    Concept of convenience is nice, reality is sor...  \n",
       "...                                                 ...  \n",
       "3344                              Cleaning is a breeze!  \n",
       "3345                         I love it. Very convenient  \n",
       "3346                                         Five Stars  \n",
       "3347  I've been a Dyson fan for years this is like a...  \n",
       "3348                                         Five Stars  \n",
       "3349  I was loving this and after having 4 months it...  \n",
       "3350                                         Five Stars  \n",
       "3351                                       great helper  \n",
       "3352                                         Five Stars  \n",
       "3353  Superb lightweight versatile vacuum cleaner bu...  \n",
       "3354                                            Love it  \n",
       "3355  It's too good to be there once. There is no su...  \n",
       "3356  When working it is powerful with good suction....  \n",
       "3357                          Best Vacuum Cleaner Ever!  \n",
       "3358                                       Best vacuum!  \n",
       "3359  amazing product - takes some organization and ...  \n",
       "3360                                           One Star  \n",
       "3361                   Great vacuum, only one complaint  \n",
       "3362                                         Five Stars  \n",
       "3363                             I'm very happy with it  \n",
       "3364  It's perfect. With three kids there are always...  \n",
       "3365      This is a wonderful vacuum for our motor home  \n",
       "3366                                           love it!  \n",
       "3367       I don't get the great reviews on this vacuum  \n",
       "3368                                        Three Stars  \n",
       "3369  Vacuum is great. I would like to see a longer ...  \n",
       "3370                                         Five Stars  \n",
       "3371     It picks up very well what a wonderful machine  \n",
       "3372                                         Five Stars  \n",
       "3373                                           One Star  \n",
       "\n",
       "[3374 rows x 7 columns]"
      ]
     },
     "execution_count": 23,
     "metadata": {},
     "output_type": "execute_result"
    }
   ],
   "source": [
    "reviews_df"
   ]
  },
  {
   "cell_type": "code",
   "execution_count": 21,
   "metadata": {
    "ExecuteTime": {
     "end_time": "2018-04-09T07:53:21.967158Z",
     "start_time": "2018-04-09T07:53:21.936244Z"
    }
   },
   "outputs": [],
   "source": [
    "df = pd.read_pickle('dyson.pkl')"
   ]
  },
  {
   "cell_type": "code",
   "execution_count": 18,
   "metadata": {
    "ExecuteTime": {
     "end_time": "2018-04-09T07:53:14.975247Z",
     "start_time": "2018-04-09T07:53:14.967033Z"
    }
   },
   "outputs": [],
   "source": [
    "#renove dulplicate reviews \n",
    "df = df[(df.product_name != 'Dyson Cyclone V10 Motorhead Lightweight Cordless Stick Vacuum Cleaner') & \\\n",
    "        (df.product_name != 'Dyson Cyclone V10 Animal Lightweight Cordless Stick Vacuum Cleaner')]"
   ]
  },
  {
   "cell_type": "code",
   "execution_count": 22,
   "metadata": {
    "ExecuteTime": {
     "end_time": "2018-04-09T07:53:23.457819Z",
     "start_time": "2018-04-09T07:53:23.448329Z"
    }
   },
   "outputs": [
    {
     "data": {
      "text/plain": [
       "Dyson V8 Absolute Cord-Free Vacuum                                                                                                                                                                        1660\n",
       "Dyson V8 Animal Cord Free Vacuum, Iron/Titanium                                                                                                                                                            554\n",
       "Dyson V7 Motorhead Cord Free Vacuum                                                                                                                                                                        479\n",
       "Dyson Ball Multi Floor 2 Upright Vacuum                                                                                                                                                                    449\n",
       "Dyson V8 Absolute Cordless HEPA Vacuum Cleaner + Fluffy Soft Roller and Direct Drive Cleaner Head + Wand Set + Mini Motorized Tool + Dusting Brush + Docking Station + Combination Tool + Crevice Tool      75\n",
       "Dyson V7 Trigger Cord-Free Handheld Vacuum                                                                                                                                                                  70\n",
       "Dyson Cyclone V10 Absolute Lightweight Cordless Stick Vacuum Cleaner                                                                                                                                        29\n",
       "Name: product_name, dtype: int64"
      ]
     },
     "execution_count": 22,
     "metadata": {},
     "output_type": "execute_result"
    }
   ],
   "source": [
    "df.product_name.value_counts()"
   ]
  },
  {
   "cell_type": "code",
   "execution_count": 20,
   "metadata": {
    "ExecuteTime": {
     "end_time": "2018-04-09T07:53:20.433173Z",
     "start_time": "2018-04-09T07:53:20.367610Z"
    }
   },
   "outputs": [],
   "source": [
    "df.to_pickle('dyson.pkl')"
   ]
  },
  {
   "cell_type": "code",
   "execution_count": 87,
   "metadata": {
    "ExecuteTime": {
     "end_time": "2018-04-02T14:13:24.028263Z",
     "start_time": "2018-04-02T14:13:24.002930Z"
    }
   },
   "outputs": [
    {
     "data": {
      "text/html": [
       "<div>\n",
       "<style scoped>\n",
       "    .dataframe tbody tr th:only-of-type {\n",
       "        vertical-align: middle;\n",
       "    }\n",
       "\n",
       "    .dataframe tbody tr th {\n",
       "        vertical-align: top;\n",
       "    }\n",
       "\n",
       "    .dataframe thead th {\n",
       "        text-align: right;\n",
       "    }\n",
       "</style>\n",
       "<table border=\"1\" class=\"dataframe\">\n",
       "  <thead>\n",
       "    <tr style=\"text-align: right;\">\n",
       "      <th></th>\n",
       "      <th>author</th>\n",
       "      <th>comment</th>\n",
       "      <th>date</th>\n",
       "      <th>helpful</th>\n",
       "      <th>product_name</th>\n",
       "      <th>rating</th>\n",
       "      <th>title</th>\n",
       "      <th>comment_length</th>\n",
       "    </tr>\n",
       "  </thead>\n",
       "  <tbody>\n",
       "    <tr>\n",
       "      <th>924</th>\n",
       "      <td>Amazon Customer</td>\n",
       "      <td>It's awesome. Great vacuum with beautiful desi...</td>\n",
       "      <td>2017-01-03</td>\n",
       "      <td>0.0</td>\n",
       "      <td>Dyson V8</td>\n",
       "      <td>5.0</td>\n",
       "      <td>must have vacuum</td>\n",
       "      <td>20</td>\n",
       "    </tr>\n",
       "    <tr>\n",
       "      <th>190</th>\n",
       "      <td>K Co.</td>\n",
       "      <td>I debated quite a bit on getting this since it...</td>\n",
       "      <td>2018-02-12</td>\n",
       "      <td>0.0</td>\n",
       "      <td>Dyson V8</td>\n",
       "      <td>5.0</td>\n",
       "      <td>I must say this is definitely a good buy. 1</td>\n",
       "      <td>86</td>\n",
       "    </tr>\n",
       "    <tr>\n",
       "      <th>1254</th>\n",
       "      <td>Frederick Stocker</td>\n",
       "      <td>charge doesn't last as long as advertised</td>\n",
       "      <td>2017-01-02</td>\n",
       "      <td>1.0</td>\n",
       "      <td>Dyson V8</td>\n",
       "      <td>4.0</td>\n",
       "      <td>Four Stars</td>\n",
       "      <td>7</td>\n",
       "    </tr>\n",
       "  </tbody>\n",
       "</table>\n",
       "</div>"
      ],
      "text/plain": [
       "                 author                                            comment  \\\n",
       "924     Amazon Customer  It's awesome. Great vacuum with beautiful desi...   \n",
       "190               K Co.  I debated quite a bit on getting this since it...   \n",
       "1254  Frederick Stocker          charge doesn't last as long as advertised   \n",
       "\n",
       "           date  helpful product_name  rating  \\\n",
       "924  2017-01-03      0.0     Dyson V8     5.0   \n",
       "190  2018-02-12      0.0     Dyson V8     5.0   \n",
       "1254 2017-01-02      1.0     Dyson V8     4.0   \n",
       "\n",
       "                                            title  comment_length  \n",
       "924                              must have vacuum              20  \n",
       "190   I must say this is definitely a good buy. 1              86  \n",
       "1254                                   Four Stars               7  "
      ]
     },
     "execution_count": 87,
     "metadata": {},
     "output_type": "execute_result"
    }
   ],
   "source": [
    "df.sample(3)"
   ]
  },
  {
   "cell_type": "code",
   "execution_count": 23,
   "metadata": {
    "ExecuteTime": {
     "end_time": "2018-04-09T07:53:32.013282Z",
     "start_time": "2018-04-09T07:53:32.008267Z"
    }
   },
   "outputs": [],
   "source": [
    "df.date = pd.to_datetime(df.date)"
   ]
  },
  {
   "cell_type": "code",
   "execution_count": 24,
   "metadata": {
    "ExecuteTime": {
     "end_time": "2018-04-09T07:53:33.562473Z",
     "start_time": "2018-04-09T07:53:33.552602Z"
    }
   },
   "outputs": [
    {
     "name": "stdout",
     "output_type": "stream",
     "text": [
      "<class 'pandas.core.frame.DataFrame'>\n",
      "Int64Index: 3316 entries, 0 to 3373\n",
      "Data columns (total 7 columns):\n",
      "author          3316 non-null object\n",
      "comment         3316 non-null object\n",
      "date            3316 non-null datetime64[ns]\n",
      "helpful         3316 non-null float64\n",
      "product_name    3316 non-null object\n",
      "rating          3316 non-null float64\n",
      "title           3316 non-null object\n",
      "dtypes: datetime64[ns](1), float64(2), object(4)\n",
      "memory usage: 207.2+ KB\n"
     ]
    }
   ],
   "source": [
    "df.info()"
   ]
  },
  {
   "cell_type": "markdown",
   "metadata": {
    "hideOutput": true
   },
   "source": [
    "# Data Analysis"
   ]
  },
  {
   "cell_type": "code",
   "execution_count": 25,
   "metadata": {
    "ExecuteTime": {
     "end_time": "2018-04-09T07:56:29.354214Z",
     "start_time": "2018-04-09T07:56:29.334360Z"
    }
   },
   "outputs": [],
   "source": [
    "# comment len\n",
    "df['comment_length'] = df.comment.apply(lambda x: len(x.split(' ')))"
   ]
  },
  {
   "cell_type": "code",
   "execution_count": 26,
   "metadata": {
    "ExecuteTime": {
     "end_time": "2018-04-09T07:56:31.130806Z",
     "start_time": "2018-04-09T07:56:30.604796Z"
    }
   },
   "outputs": [
    {
     "data": {
      "image/png": "[encoded data removed]",
      "text/plain": [
       "<matplotlib.figure.Figure at 0x11e6dc748>"
      ]
     },
     "metadata": {},
     "output_type": "display_data"
    }
   ],
   "source": [
    "fig, axes = plt.subplots(1,3, figsize=(15,4))\n",
    "\n",
    "df.helpful.hist(ax=axes[0], bins=50);\n",
    "axes[0].set_title('helpful');\n",
    "\n",
    "df.comment_length.hist(ax=axes[1], bins=20);\n",
    "axes[1].set_title('comment length (word count)');\n",
    "\n",
    "df.rating.hist(ax=axes[2])\n",
    "axes[2].set_title('rating');"
   ]
  },
  {
   "cell_type": "code",
   "execution_count": 27,
   "metadata": {
    "ExecuteTime": {
     "end_time": "2018-04-09T07:56:38.651020Z",
     "start_time": "2018-04-09T07:56:38.630399Z"
    }
   },
   "outputs": [],
   "source": [
    "df.product_name = df.product_name.apply(lambda x: 'Dyson V8 HEPA' if x == 'Dyson V8 Absolute Cordless HEPA Vacuum Cleaner + Fluffy Soft Roller and Direct Drive Cleaner Head + Wand Set + Mini Motorized Tool + Dusting Brush + Docking Station + Combination Tool + Crevice Tool' else x)\n",
    "df.product_name = df.product_name.apply(lambda x: 'Dyson V8' if x == 'Dyson V8 Absolute Cord-Free Vacuum' else x)\n",
    "df.product_name = df.product_name.apply(lambda x: 'Dyson V8 Animal' if x == 'Dyson V8 Animal Cord Free Vacuum, Iron/Titanium' else x)\n",
    "df.product_name = df.product_name.apply(lambda x: 'Dyson V10' if x == 'Dyson Cyclone V10 Absolute Lightweight Cordless Stick Vacuum Cleaner' else x)\n",
    "df.product_name = df.product_name.apply(lambda x: 'Dyson V7 Motorhead' if x == 'Dyson V7 Motorhead Cord Free Vacuum' else x)\n",
    "df.product_name = df.product_name.apply(lambda x: 'Dyson V7 Trigger' if x == 'Dyson V7 Trigger Cord-Free Handheld Vacuum' else x)\n",
    "df.product_name = df.product_name.apply(lambda x: 'Dyson Ball' if x == 'Dyson Ball Multi Floor 2 Upright Vacuum' else x)"
   ]
  },
  {
   "cell_type": "code",
   "execution_count": 28,
   "metadata": {
    "ExecuteTime": {
     "end_time": "2018-04-09T07:56:39.540309Z",
     "start_time": "2018-04-09T07:56:39.189402Z"
    }
   },
   "outputs": [
    {
     "data": {
      "text/plain": [
       "<matplotlib.axes._subplots.AxesSubplot at 0x11f13ce80>"
      ]
     },
     "execution_count": 28,
     "metadata": {},
     "output_type": "execute_result"
    },
    {
     "data": {
      "image/png": "[encoded data removed]",
      "text/plain": [
       "<matplotlib.figure.Figure at 0x11f256278>"
      ]
     },
     "metadata": {},
     "output_type": "display_data"
    }
   ],
   "source": [
    "sns.heatmap(df.corr(), annot=True)"
   ]
  },
  {
   "cell_type": "code",
   "execution_count": 29,
   "metadata": {
    "ExecuteTime": {
     "end_time": "2018-04-09T07:56:41.503633Z",
     "start_time": "2018-04-09T07:56:41.207310Z"
    }
   },
   "outputs": [
    {
     "data": {
      "image/png": "[encoded data removed]",
      "text/plain": [
       "<matplotlib.figure.Figure at 0x11e60f940>"
      ]
     },
     "metadata": {},
     "output_type": "display_data"
    }
   ],
   "source": [
    "#rating by products , rating\n",
    "chart = df.pivot_table(index='product_name', \n",
    "                       columns='rating', \n",
    "                       values = 'author', \n",
    "                       aggfunc='count')\n",
    "chart.apply(lambda x: x/chart.sum(axis=1)).plot.bar(stacked=True);"
   ]
  },
  {
   "cell_type": "code",
   "execution_count": 40,
   "metadata": {
    "ExecuteTime": {
     "end_time": "2018-04-09T07:59:38.920121Z",
     "start_time": "2018-04-09T07:59:37.187747Z"
    }
   },
   "outputs": [
    {
     "data": {
      "image/png": "[encoded data removed]",
      "text/plain": [
       "<matplotlib.figure.Figure at 0x120c42208>"
      ]
     },
     "metadata": {},
     "output_type": "display_data"
    }
   ],
   "source": [
    "fig, axes = plt.subplots(4,2, figsize=(15,14))\n",
    "\n",
    "df[df.product_name == 'Dyson Ball'].date.hist(bins=50, ax=axes[0,0]);\n",
    "axes[0,0].set_title('Dyson Ball')\n",
    "\n",
    "df[df.product_name == 'Dyson V10'].date.hist(bins=50, ax=axes[0,1]);\n",
    "axes[0,1].set_title('Dyson V10')\n",
    "\n",
    "df[df.product_name == 'Dyson V7 Motorhead'].date.hist(bins=50, ax=axes[1,0]);\n",
    "axes[1,0].set_title('Dyson V7 Motorhead')\n",
    "\n",
    "df[df.product_name == 'Dyson V7 Trigger'].date.hist(bins=50, ax=axes[1,1]);\n",
    "axes[1,1].set_title('Dyson V7 Trigger')\n",
    "\n",
    "df[df.product_name == 'Dyson V8'].date.hist(bins=50, ax=axes[2,0]);\n",
    "axes[2,0].set_title('Dyson V8')\n",
    "\n",
    "df[df.product_name == 'Dyson V8 Animal'].date.hist(bins=50, ax=axes[2,1]);\n",
    "axes[2,1].set_title('Dyson V8 Animal')\n",
    "\n",
    "df[df.product_name == 'Dyson V8 HEPA'].date.hist(bins=50, ax=axes[3,0]);\n",
    "axes[3,0].set_title('Dyson V8 HEPA');"
   ]
  },
  {
   "cell_type": "code",
   "execution_count": 41,
   "metadata": {
    "ExecuteTime": {
     "end_time": "2018-04-09T08:00:12.144464Z",
     "start_time": "2018-04-09T08:00:11.923094Z"
    }
   },
   "outputs": [
    {
     "data": {
      "text/plain": [
       "<matplotlib.axes._subplots.AxesSubplot at 0x11e5c7630>"
      ]
     },
     "execution_count": 41,
     "metadata": {},
     "output_type": "execute_result"
    },
    {
     "data": {
      "image/png": "[encoded data removed]",
      "text/plain": [
       "<matplotlib.figure.Figure at 0x120ca9400>"
      ]
     },
     "metadata": {},
     "output_type": "display_data"
    }
   ],
   "source": [
    "df.plot.scatter('comment_length', 'helpful')"
   ]
  },
  {
   "cell_type": "code",
   "execution_count": 42,
   "metadata": {
    "ExecuteTime": {
     "end_time": "2018-04-09T08:00:38.310857Z",
     "start_time": "2018-04-09T08:00:38.301361Z"
    }
   },
   "outputs": [],
   "source": [
    "# lowercase\n",
    "df.comment = df.comment.str.lower()"
   ]
  },
  {
   "cell_type": "code",
   "execution_count": 43,
   "metadata": {
    "ExecuteTime": {
     "end_time": "2018-04-09T08:00:41.320934Z",
     "start_time": "2018-04-09T08:00:39.476635Z"
    }
   },
   "outputs": [],
   "source": [
    "from sklearn.feature_extraction.text import CountVectorizer"
   ]
  },
  {
   "cell_type": "code",
   "execution_count": 120,
   "metadata": {
    "ExecuteTime": {
     "end_time": "2018-04-09T10:57:38.250661Z",
     "start_time": "2018-04-09T10:57:37.604120Z"
    }
   },
   "outputs": [],
   "source": [
    "cv = CountVectorizer(stop_words='english', ngram_range=(1,3))\n",
    "v10 = df #[(df.rating < 3)]\n",
    "v10_comment = cv.fit_transform(v10.comment)"
   ]
  },
  {
   "cell_type": "code",
   "execution_count": 121,
   "metadata": {
    "ExecuteTime": {
     "end_time": "2018-04-09T10:57:51.869684Z",
     "start_time": "2018-04-09T10:57:38.351483Z"
    }
   },
   "outputs": [
    {
     "data": {
      "text/plain": [
       "vacuum                        2234\n",
       "dyson                         1212\n",
       "use                            854\n",
       "great                          852\n",
       "love                           809\n",
       "easy                           690\n",
       "battery                        600\n",
       "suction                        565\n",
       "good                           532\n",
       "time                           479\n",
       "just                           473\n",
       "like                           437\n",
       "carpet                         411\n",
       "power                          403\n",
       "house                          402\n",
       "clean                          383\n",
       "product                        377\n",
       "floors                         376\n",
       "works                          373\n",
       "does                           359\n",
       "really                         329\n",
       "light                          322\n",
       "best                           320\n",
       "v8                             320\n",
       "used                           316\n",
       "minutes                        305\n",
       "ve                             296\n",
       "don                            294\n",
       "life                           292\n",
       "floor                          289\n",
       "                              ... \n",
       "powered dysons start             1\n",
       "powered head using               1\n",
       "powered head worth               1\n",
       "powered light                    1\n",
       "powered light weight             1\n",
       "powered attachments carpet       1\n",
       "power yes ll                     1\n",
       "power yes                        1\n",
       "power weaker thought             1\n",
       "power ve                         1\n",
       "power ve wanted                  1\n",
       "power want                       1\n",
       "power want max                   1\n",
       "power wasn                       1\n",
       "power wasn disappointed          1\n",
       "power way                        1\n",
       "power way amazing                1\n",
       "power weaker                     1\n",
       "power worked                     1\n",
       "power write home                 1\n",
       "power worked emptying            1\n",
       "power works                      1\n",
       "power works just                 1\n",
       "power worried                    1\n",
       "power worried mattered           1\n",
       "power worth penny                1\n",
       "power wow                        1\n",
       "power wow power                  1\n",
       "power write                      1\n",
       "like wand sucking                1\n",
       "Length: 106856, dtype: int64"
      ]
     },
     "execution_count": 121,
     "metadata": {},
     "output_type": "execute_result"
    }
   ],
   "source": [
    "#most common used words\n",
    "pd.DataFrame(v10_comment.toarray(), columns = cv.get_feature_names()).sum().sort_values(ascending=False)"
   ]
  },
  {
   "cell_type": "code",
   "execution_count": 132,
   "metadata": {
    "ExecuteTime": {
     "end_time": "2018-04-09T12:26:32.475057Z",
     "start_time": "2018-04-09T12:26:32.459329Z"
    }
   },
   "outputs": [
    {
     "data": {
      "text/html": [
       "<div>\n",
       "<style scoped>\n",
       "    .dataframe tbody tr th:only-of-type {\n",
       "        vertical-align: middle;\n",
       "    }\n",
       "\n",
       "    .dataframe tbody tr th {\n",
       "        vertical-align: top;\n",
       "    }\n",
       "\n",
       "    .dataframe thead th {\n",
       "        text-align: right;\n",
       "    }\n",
       "</style>\n",
       "<table border=\"1\" class=\"dataframe\">\n",
       "  <thead>\n",
       "    <tr style=\"text-align: right;\">\n",
       "      <th></th>\n",
       "      <th>author</th>\n",
       "      <th>comment</th>\n",
       "      <th>date</th>\n",
       "      <th>helpful</th>\n",
       "      <th>product_name</th>\n",
       "      <th>rating</th>\n",
       "      <th>title</th>\n",
       "      <th>comment_length</th>\n",
       "    </tr>\n",
       "  </thead>\n",
       "  <tbody>\n",
       "    <tr>\n",
       "      <th>763</th>\n",
       "      <td>Renee Kee</td>\n",
       "      <td>works fabulous. we have an australian shepard ...</td>\n",
       "      <td>2016-12-14</td>\n",
       "      <td>0.0</td>\n",
       "      <td>Dyson V8</td>\n",
       "      <td>5.0</td>\n",
       "      <td>Five Stars</td>\n",
       "      <td>19</td>\n",
       "    </tr>\n",
       "    <tr>\n",
       "      <th>866</th>\n",
       "      <td>yun chen hu</td>\n",
       "      <td>this is a very easy to use product, i really l...</td>\n",
       "      <td>2017-12-14</td>\n",
       "      <td>0.0</td>\n",
       "      <td>Dyson V8</td>\n",
       "      <td>5.0</td>\n",
       "      <td>Five Stars</td>\n",
       "      <td>12</td>\n",
       "    </tr>\n",
       "    <tr>\n",
       "      <th>3136</th>\n",
       "      <td>Dorothy Huffman</td>\n",
       "      <td>not a  good product for old people.  this thin...</td>\n",
       "      <td>2017-09-28</td>\n",
       "      <td>6.0</td>\n",
       "      <td>Dyson Ball</td>\n",
       "      <td>1.0</td>\n",
       "      <td>Awfully hard to use</td>\n",
       "      <td>56</td>\n",
       "    </tr>\n",
       "  </tbody>\n",
       "</table>\n",
       "</div>"
      ],
      "text/plain": [
       "               author                                            comment  \\\n",
       "763         Renee Kee  works fabulous. we have an australian shepard ...   \n",
       "866       yun chen hu  this is a very easy to use product, i really l...   \n",
       "3136  Dorothy Huffman  not a  good product for old people.  this thin...   \n",
       "\n",
       "           date  helpful product_name  rating                title  \\\n",
       "763  2016-12-14      0.0     Dyson V8     5.0           Five Stars   \n",
       "866  2017-12-14      0.0     Dyson V8     5.0           Five Stars   \n",
       "3136 2017-09-28      6.0   Dyson Ball     1.0  Awfully hard to use   \n",
       "\n",
       "      comment_length  \n",
       "763               19  \n",
       "866               12  \n",
       "3136              56  "
      ]
     },
     "execution_count": 132,
     "metadata": {},
     "output_type": "execute_result"
    }
   ],
   "source": [
    "v10.sample(3)"
   ]
  },
  {
   "cell_type": "code",
   "execution_count": 133,
   "metadata": {
    "ExecuteTime": {
     "end_time": "2018-04-09T12:26:54.665841Z",
     "start_time": "2018-04-09T12:26:54.659308Z"
    }
   },
   "outputs": [
    {
     "data": {
      "text/plain": [
       "'not a  good product for old people.  this thing is a beast.  used it for about 30 minutes and already hate it.  the hose for the attachment is so heavy and stiff it turns the unit over.  it is very heavy and unwieldy.  the only redeeming quality is the suction.'"
      ]
     },
     "execution_count": 133,
     "metadata": {},
     "output_type": "execute_result"
    }
   ],
   "source": [
    "v10.comment[3136]"
   ]
  },
  {
   "cell_type": "code",
   "execution_count": 126,
   "metadata": {
    "ExecuteTime": {
     "end_time": "2018-04-09T10:58:28.700849Z",
     "start_time": "2018-04-09T10:58:28.692956Z"
    }
   },
   "outputs": [
    {
     "data": {
      "text/plain": [
       "Sentiment(polarity=0.4131944444444445, subjectivity=0.16666666666666666)"
      ]
     },
     "execution_count": 126,
     "metadata": {},
     "output_type": "execute_result"
    }
   ],
   "source": [
    "from textblob import TextBlob\n",
    "\n",
    "TextBlob(v10.comment[676]).sentiment"
   ]
  },
  {
   "cell_type": "code",
   "execution_count": 127,
   "metadata": {
    "ExecuteTime": {
     "end_time": "2018-04-09T10:58:29.915802Z",
     "start_time": "2018-04-09T10:58:29.908923Z"
    }
   },
   "outputs": [
    {
     "data": {
      "text/plain": [
       "TextBlob(\"this is the best cordless vacuum on the market! i can't believe how much dust it sucked from my mattresses using the mini motorized tool!\")"
      ]
     },
     "execution_count": 127,
     "metadata": {},
     "output_type": "execute_result"
    }
   ],
   "source": [
    "TextBlob(v10.comment[676])"
   ]
  },
  {
   "cell_type": "markdown",
   "metadata": {},
   "source": [
    "# NLP"
   ]
  },
  {
   "cell_type": "code",
   "execution_count": 161,
   "metadata": {
    "ExecuteTime": {
     "end_time": "2018-04-09T13:28:08.326601Z",
     "start_time": "2018-04-09T13:28:08.320994Z"
    }
   },
   "outputs": [],
   "source": [
    "import spacy\n",
    "from gensim.models import Phrases, Word2Vec\n",
    "from gensim.models.word2vec import LineSentence\n",
    "from gensim.corpora import MmCorpus"
   ]
  },
  {
   "cell_type": "code",
   "execution_count": 52,
   "metadata": {
    "ExecuteTime": {
     "end_time": "2018-04-09T08:01:38.526692Z",
     "start_time": "2018-04-09T08:01:37.109013Z"
    }
   },
   "outputs": [],
   "source": [
    "nlp = spacy.load('en')"
   ]
  },
  {
   "cell_type": "code",
   "execution_count": 90,
   "metadata": {
    "ExecuteTime": {
     "end_time": "2018-04-09T10:23:19.886108Z",
     "start_time": "2018-04-09T10:23:19.851657Z"
    }
   },
   "outputs": [],
   "source": [
    "document = nlp(v10.comment[2214])"
   ]
  },
  {
   "cell_type": "code",
   "execution_count": 106,
   "metadata": {
    "ExecuteTime": {
     "end_time": "2018-04-09T10:44:10.639146Z",
     "start_time": "2018-04-09T10:44:10.632898Z"
    }
   },
   "outputs": [
    {
     "data": {
      "text/plain": [
       "i considered giving this vacuum five stars because it really is a joy to use, but there were a few things that held me back.  i addressed some positive's and negative's of each of these points below."
      ]
     },
     "execution_count": 106,
     "metadata": {},
     "output_type": "execute_result"
    }
   ],
   "source": [
    "document"
   ]
  },
  {
   "cell_type": "code",
   "execution_count": 58,
   "metadata": {
    "ExecuteTime": {
     "end_time": "2018-04-09T09:29:24.729109Z",
     "start_time": "2018-04-09T09:29:24.723267Z"
    }
   },
   "outputs": [],
   "source": [
    "def punct_space(token):\n",
    "    \"\"\"\n",
    "    helper function to eliminate tokens that are pure punctuation or whitespace\n",
    "    \"\"\" \n",
    "    return token.is_punct or token.is_space"
   ]
  },
  {
   "cell_type": "code",
   "execution_count": 83,
   "metadata": {
    "ExecuteTime": {
     "end_time": "2018-04-09T10:19:12.899440Z",
     "start_time": "2018-04-09T10:19:12.892498Z"
    }
   },
   "outputs": [],
   "source": [
    "sen = []\n",
    "\n",
    "for sent in document.sents:\n",
    "    sen.append(' '.join([token.lemma_ for token in sent if not punct_space(token)]))"
   ]
  },
  {
   "cell_type": "code",
   "execution_count": 129,
   "metadata": {
    "ExecuteTime": {
     "end_time": "2018-04-09T12:25:09.610901Z",
     "start_time": "2018-04-09T12:25:07.305197Z"
    }
   },
   "outputs": [],
   "source": [
    "from gensim.corpora import Dictionary, MmCorpus\n",
    "from gensim.models.ldamulticore import LdaMulticore\n",
    "\n",
    "import pyLDAvis\n",
    "import pyLDAvis.gensim"
   ]
  },
  {
   "cell_type": "code",
   "execution_count": 149,
   "metadata": {
    "ExecuteTime": {
     "end_time": "2018-04-09T12:49:58.265011Z",
     "start_time": "2018-04-09T12:49:58.258230Z"
    }
   },
   "outputs": [],
   "source": [
    "from nltk.corpus import stopwords\n",
    "from sklearn.feature_extraction.stop_words import ENGLISH_STOP_WORDS\n",
    "\n",
    "#customizing stopwords list by combining stop words from nltk and sklearn\n",
    "stoplist = set(stopwords.words('english') + list(ENGLISH_STOP_WORDS))"
   ]
  },
  {
   "cell_type": "code",
   "execution_count": 152,
   "metadata": {
    "ExecuteTime": {
     "end_time": "2018-04-09T12:50:36.690580Z",
     "start_time": "2018-04-09T12:50:36.637996Z"
    }
   },
   "outputs": [],
   "source": [
    "comments = [[word for word in document.lower().split() if word not in stoplist] for document in v10.comment]"
   ]
  },
  {
   "cell_type": "code",
   "execution_count": 155,
   "metadata": {
    "ExecuteTime": {
     "end_time": "2018-04-09T12:51:35.521038Z",
     "start_time": "2018-04-09T12:51:35.405075Z"
    }
   },
   "outputs": [],
   "source": [
    "dictionary = Dictionary(comments)"
   ]
  },
  {
   "cell_type": "code",
   "execution_count": 162,
   "metadata": {
    "ExecuteTime": {
     "end_time": "2018-04-09T13:28:21.828592Z",
     "start_time": "2018-04-09T13:28:21.585569Z"
    }
   },
   "outputs": [],
   "source": [
    "corpus = [dictionary.doc2bow(text) for text in comments]\n",
    "MmCorpus.serialize('/tmp/deerwester.mm', corpus)  # store to disk, for later use"
   ]
  },
  {
   "cell_type": "code",
   "execution_count": 191,
   "metadata": {
    "ExecuteTime": {
     "end_time": "2018-04-09T13:40:12.090768Z",
     "start_time": "2018-04-09T13:40:05.183396Z"
    }
   },
   "outputs": [],
   "source": [
    "lda = LdaMulticore(corpus,\n",
    "                   num_topics=5,\n",
    "                   id2word=dictionary,\n",
    "                   workers=3)"
   ]
  },
  {
   "cell_type": "code",
   "execution_count": 192,
   "metadata": {
    "ExecuteTime": {
     "end_time": "2018-04-09T13:40:12.227484Z",
     "start_time": "2018-04-09T13:40:12.219750Z"
    }
   },
   "outputs": [],
   "source": [
    "def explore_topic(topic_number, topn=25):\n",
    "    print ('{:20} {}'.format(u'term', u'frequency') + u'\\n')\n",
    "\n",
    "    for term, frequency in lda.show_topic(topic_number, topn=20):\n",
    "        print ('{:20} {:.3f}'.format(term, round(frequency, 3)))"
   ]
  },
  {
   "cell_type": "code",
   "execution_count": 194,
   "metadata": {
    "ExecuteTime": {
     "end_time": "2018-04-09T13:40:21.941161Z",
     "start_time": "2018-04-09T13:40:21.927946Z"
    }
   },
   "outputs": [
    {
     "name": "stdout",
     "output_type": "stream",
     "text": [
      "term                 frequency\n",
      "\n",
      "vacuum               0.023\n",
      "dyson                0.013\n",
      "battery              0.008\n",
      "it's                 0.008\n",
      "it.                  0.007\n",
      "love                 0.007\n",
      "suction              0.006\n",
      "like                 0.006\n",
      "use                  0.006\n",
      "time                 0.005\n",
      "really               0.005\n",
      "vacuum.              0.005\n",
      "v8                   0.005\n",
      "easy                 0.005\n",
      "thing                0.004\n",
      "good                 0.004\n",
      "power                0.004\n",
      "great                0.004\n",
      "worth                0.004\n",
      "new                  0.004\n"
     ]
    }
   ],
   "source": [
    "explore_topic(4, dictionary)"
   ]
  },
  {
   "cell_type": "code",
   "execution_count": 195,
   "metadata": {
    "ExecuteTime": {
     "end_time": "2018-04-09T13:40:30.437616Z",
     "start_time": "2018-04-09T13:40:26.463207Z"
    }
   },
   "outputs": [],
   "source": [
    "LDAvis_prepared = pyLDAvis.gensim.prepare(lda, corpus, dictionary)"
   ]
  },
  {
   "cell_type": "code",
   "execution_count": 196,
   "metadata": {
    "ExecuteTime": {
     "end_time": "2018-04-09T13:40:30.591610Z",
     "start_time": "2018-04-09T13:40:30.577746Z"
    }
   },
   "outputs": [
    {
     "data": {
      "text/html": [
       "\n",
       "<link rel=\"stylesheet\" type=\"text/css\" href=\"https://cdn.rawgit.com/bmabey/pyLDAvis/files/ldavis.v1.0.0.css\">\n",
       "\n",
       "\n",
       "<div id=\"ldavis_el764751757642165507948411\"></div>\n",
       "<script type=\"text/javascript\">\n",
       "\n",
       "var ldavis_el764751757642165507948411_data = {\"mdsDat\": {\"Freq\": [29.956082152290197, 28.700379317021746, 16.55035726120343, 12.497294358060682, 12.295886911423942], \"cluster\": [1, 1, 1, 1, 1], \"topics\": [1, 2, 3, 4, 5], \"x\": [-0.029472465872969363, -0.011410608382498216, -0.013875011706257007, 0.012097427801802148, 0.0426606581599224], \"y\": [0.00888652605290939, 0.000947617319943427, 0.012547157571826745, -0.04585947547099672, 0.023478174526317157]}, \"tinfo\": {\"Category\": [\"Default\", \"Default\", \"Default\", \"Default\", \"Default\", \"Default\", \"Default\", \"Default\", \"Default\", \"Default\", \"Default\", \"Default\", \"Default\", \"Default\", \"Default\", \"Default\", \"Default\", \"Default\", \"Default\", \"Default\", \"Default\", \"Default\", \"Default\", \"Default\", \"Default\", \"Default\", \"Default\", \"Default\", \"Default\", \"Default\", \"Topic1\", \"Topic1\", \"Topic1\", \"Topic1\", \"Topic1\", \"Topic1\", \"Topic1\", \"Topic1\", \"Topic1\", \"Topic1\", \"Topic1\", \"Topic1\", \"Topic1\", \"Topic1\", \"Topic1\", \"Topic1\", \"Topic1\", \"Topic1\", \"Topic1\", \"Topic1\", \"Topic1\", \"Topic1\", \"Topic1\", \"Topic1\", \"Topic1\", \"Topic1\", \"Topic1\", \"Topic1\", \"Topic1\", \"Topic1\", \"Topic1\", \"Topic1\", \"Topic1\", \"Topic1\", \"Topic1\", \"Topic1\", \"Topic1\", \"Topic1\", \"Topic1\", \"Topic1\", \"Topic1\", \"Topic1\", \"Topic1\", \"Topic1\", \"Topic1\", \"Topic1\", \"Topic1\", \"Topic1\", \"Topic1\", \"Topic1\", \"Topic1\", \"Topic1\", \"Topic1\", \"Topic1\", \"Topic1\", \"Topic1\", \"Topic1\", \"Topic1\", \"Topic1\", \"Topic1\", \"Topic1\", \"Topic1\", \"Topic1\", \"Topic1\", \"Topic1\", \"Topic1\", \"Topic1\", \"Topic1\", \"Topic1\", \"Topic1\", \"Topic1\", \"Topic1\", \"Topic1\", \"Topic1\", \"Topic1\", \"Topic1\", \"Topic1\", \"Topic1\", \"Topic1\", \"Topic1\", \"Topic1\", \"Topic1\", \"Topic1\", \"Topic2\", \"Topic2\", \"Topic2\", \"Topic2\", \"Topic2\", \"Topic2\", \"Topic2\", \"Topic2\", \"Topic2\", \"Topic2\", \"Topic2\", \"Topic2\", \"Topic2\", \"Topic2\", \"Topic2\", \"Topic2\", \"Topic2\", \"Topic2\", \"Topic2\", \"Topic2\", \"Topic2\", \"Topic2\", \"Topic2\", \"Topic2\", \"Topic2\", \"Topic2\", \"Topic2\", \"Topic2\", \"Topic2\", \"Topic2\", \"Topic2\", \"Topic2\", \"Topic2\", \"Topic2\", \"Topic2\", \"Topic2\", \"Topic2\", \"Topic2\", \"Topic2\", \"Topic2\", \"Topic2\", \"Topic2\", \"Topic2\", \"Topic2\", \"Topic2\", \"Topic2\", \"Topic2\", \"Topic2\", \"Topic2\", \"Topic2\", \"Topic2\", \"Topic2\", \"Topic2\", \"Topic2\", \"Topic2\", \"Topic2\", \"Topic2\", \"Topic2\", \"Topic2\", \"Topic2\", \"Topic2\", \"Topic2\", \"Topic2\", \"Topic2\", \"Topic2\", \"Topic2\", \"Topic2\", \"Topic2\", \"Topic2\", \"Topic2\", \"Topic2\", \"Topic2\", \"Topic2\", \"Topic2\", \"Topic2\", \"Topic2\", \"Topic2\", \"Topic2\", \"Topic2\", \"Topic2\", \"Topic2\", \"Topic2\", \"Topic2\", \"Topic3\", \"Topic3\", \"Topic3\", \"Topic3\", \"Topic3\", \"Topic3\", \"Topic3\", \"Topic3\", \"Topic3\", \"Topic3\", \"Topic3\", \"Topic3\", \"Topic3\", \"Topic3\", \"Topic3\", \"Topic3\", \"Topic3\", \"Topic3\", \"Topic3\", \"Topic3\", \"Topic3\", \"Topic3\", \"Topic3\", \"Topic3\", \"Topic3\", \"Topic3\", \"Topic3\", \"Topic3\", \"Topic3\", \"Topic3\", \"Topic3\", \"Topic3\", \"Topic3\", \"Topic3\", \"Topic3\", \"Topic3\", \"Topic3\", \"Topic3\", \"Topic3\", \"Topic3\", \"Topic3\", \"Topic3\", \"Topic3\", \"Topic3\", \"Topic3\", \"Topic3\", \"Topic3\", \"Topic3\", \"Topic3\", \"Topic3\", \"Topic3\", \"Topic3\", \"Topic3\", \"Topic3\", \"Topic3\", \"Topic3\", \"Topic3\", \"Topic3\", \"Topic3\", \"Topic3\", \"Topic3\", \"Topic3\", \"Topic3\", \"Topic3\", \"Topic3\", \"Topic3\", \"Topic3\", \"Topic3\", \"Topic3\", \"Topic3\", \"Topic3\", \"Topic3\", \"Topic3\", \"Topic3\", \"Topic3\", \"Topic3\", \"Topic3\", \"Topic3\", \"Topic3\", \"Topic3\", \"Topic3\", \"Topic3\", \"Topic4\", \"Topic4\", \"Topic4\", \"Topic4\", \"Topic4\", \"Topic4\", \"Topic4\", \"Topic4\", \"Topic4\", \"Topic4\", \"Topic4\", \"Topic4\", \"Topic4\", \"Topic4\", \"Topic4\", \"Topic4\", \"Topic4\", \"Topic4\", \"Topic4\", \"Topic4\", \"Topic4\", \"Topic4\", \"Topic4\", \"Topic4\", \"Topic4\", \"Topic4\", \"Topic4\", \"Topic4\", \"Topic4\", \"Topic4\", \"Topic4\", \"Topic4\", \"Topic4\", \"Topic4\", \"Topic4\", \"Topic4\", \"Topic4\", \"Topic4\", \"Topic4\", \"Topic4\", \"Topic4\", \"Topic4\", \"Topic4\", \"Topic4\", \"Topic4\", \"Topic4\", \"Topic4\", \"Topic4\", \"Topic4\", \"Topic4\", \"Topic4\", \"Topic4\", \"Topic4\", \"Topic4\", \"Topic4\", \"Topic4\", \"Topic4\", \"Topic4\", \"Topic4\", \"Topic4\", \"Topic4\", \"Topic4\", \"Topic4\", \"Topic4\", \"Topic4\", \"Topic4\", \"Topic4\", \"Topic4\", \"Topic4\", \"Topic4\", \"Topic4\", \"Topic4\", \"Topic4\", \"Topic4\", \"Topic4\", \"Topic4\", \"Topic4\", \"Topic4\", \"Topic4\", \"Topic4\", \"Topic4\", \"Topic4\", \"Topic4\", \"Topic4\", \"Topic5\", \"Topic5\", \"Topic5\", \"Topic5\", \"Topic5\", \"Topic5\", \"Topic5\", \"Topic5\", \"Topic5\", \"Topic5\", \"Topic5\", \"Topic5\", \"Topic5\", \"Topic5\", \"Topic5\", \"Topic5\", \"Topic5\", \"Topic5\", \"Topic5\", \"Topic5\", \"Topic5\", \"Topic5\", \"Topic5\", \"Topic5\", \"Topic5\", \"Topic5\", \"Topic5\", \"Topic5\", \"Topic5\", \"Topic5\", \"Topic5\", \"Topic5\", \"Topic5\", \"Topic5\", \"Topic5\", \"Topic5\", \"Topic5\", \"Topic5\", \"Topic5\", \"Topic5\", \"Topic5\", \"Topic5\", \"Topic5\", \"Topic5\", \"Topic5\", \"Topic5\", \"Topic5\", \"Topic5\", \"Topic5\", \"Topic5\", \"Topic5\", \"Topic5\", \"Topic5\", \"Topic5\", \"Topic5\", \"Topic5\", \"Topic5\", \"Topic5\", \"Topic5\", \"Topic5\", \"Topic5\", \"Topic5\", \"Topic5\", \"Topic5\", \"Topic5\", \"Topic5\", \"Topic5\", \"Topic5\", \"Topic5\", \"Topic5\", \"Topic5\", \"Topic5\", \"Topic5\", \"Topic5\", \"Topic5\", \"Topic5\", \"Topic5\", \"Topic5\", \"Topic5\", \"Topic5\", \"Topic5\"], \"Freq\": [335.0, 293.0, 1413.0, 582.0, 667.0, 288.0, 580.0, 830.0, 194.0, 354.0, 227.0, 222.0, 144.0, 81.0, 179.0, 87.0, 122.0, 198.0, 516.0, 86.0, 80.0, 144.0, 478.0, 186.0, 52.0, 180.0, 134.0, 63.0, 147.0, 109.0, 11.862507372097, 3.0687741624487916, 3.065225297430711, 3.058910480230612, 2.1120266314325193, 2.1113504327354877, 2.1107437749505706, 2.110512774692908, 2.1094845239410844, 2.109151421867951, 2.107752900886355, 2.10754675699527, 2.10244504458512, 2.0949059604730498, 2.7674023542231265, 2.0673272240415534, 2.055629471127382, 3.4197411181683184, 2.058276287353059, 2.0460409707948815, 2.036765546711659, 2.03666496035208, 2.722628322975295, 2.01223402245411, 2.693031614002833, 2.6864811541127507, 3.9537439340149536, 1.9625462148206456, 2.5983626800196364, 2.6215907616039753, 4.633505255784409, 12.046304329555104, 6.843275214990763, 313.0449297331012, 5.042353935853551, 145.67671924628766, 5.574584738318325, 5.6321285038281195, 13.295184144074934, 129.3225321162764, 91.6514579538884, 293.35047057618965, 35.818140786432735, 20.111891550836457, 223.4199640989827, 82.66161383134501, 30.424917795809037, 5.0054272287217065, 33.35124933911036, 231.08343583302104, 54.35797097540837, 37.80448866771911, 190.55458164826783, 17.926658451340753, 123.30951558683215, 16.97229442980428, 35.14378786690108, 183.06766218934354, 70.77295836082367, 72.32235600319073, 38.70137478429638, 54.64829536401001, 258.01803647190894, 66.95177635227626, 88.62723610961496, 101.77731151646115, 54.31675105644123, 352.0502346678866, 78.56285896369468, 70.44320464944565, 77.79553257746062, 78.24125477035871, 105.35123733950452, 55.81519633128076, 61.13216405842666, 64.64821526473177, 98.63604745089778, 69.76665205825043, 77.00330148076843, 94.36784884968165, 67.82920900691397, 82.59056995608616, 69.81081462008738, 3.0063504217957555, 2.9940417062230615, 3.627768691111962, 3.5402804682903173, 2.0684051223915554, 2.0677321711950567, 2.0672957641170226, 2.067311252845487, 2.0606716975815154, 2.058295121603245, 2.0571257997631474, 2.057079670459663, 2.052258137364536, 2.0459089909986448, 2.022496192249585, 3.275827896340209, 1.979916507375879, 5.921588144490414, 2.5755275472459114, 1.9459627337102712, 3.165321605046712, 1.9238019490478626, 1.8935443435280408, 1.86763797655554, 2.480380415352707, 2.517912898487005, 4.3010318498418005, 6.231929374459096, 2.5293188653988397, 4.255862768840503, 27.1412016421603, 3.001942490162856, 4.812337077754654, 11.479186383207226, 3.5542239040382824, 38.319101933252504, 30.397817820550177, 32.64726465634275, 24.340603067205194, 53.69779620236673, 86.70528692352032, 34.841733386577914, 78.9828241793635, 10.98849421955324, 101.31301556465891, 146.4628672148313, 29.28727969970646, 457.9231243012903, 6.23851576711693, 106.98256500851696, 28.411752065196424, 5.254114711731986, 51.61112515735207, 41.23945894474191, 261.3814500718654, 106.8938857213255, 108.9427655285325, 161.87531146503534, 34.033173482511195, 157.6732829278891, 117.34912267474027, 41.19626983993175, 80.8112153955229, 67.93805680747091, 113.280279957865, 73.98188921842386, 56.8605953837723, 57.05365665170869, 145.8369959619448, 82.42116800086878, 72.43639318178401, 69.75095287435406, 112.92300969153915, 85.74440984768658, 58.91308377587799, 59.84374526806397, 62.9534582994951, 64.0509568427464, 69.35745669143309, 93.46999548741886, 81.64578470771644, 61.541173189387756, 61.20633455334005, 2.553341543873029, 2.552351403571766, 2.5508858601312245, 1.7559327429669762, 1.7556010061180811, 1.7554438621864275, 1.7550682323046451, 1.7550373326810158, 1.7540245194049453, 1.7536441987771616, 1.7535083951769455, 1.7051465610833265, 2.234890551642161, 2.2503571487682024, 1.66860416871131, 2.2082557997137573, 1.6013761349433477, 1.5784453742085809, 1.5954978373436326, 1.5833284255494389, 2.0916827050913844, 1.5683717359973872, 2.553523249986991, 2.553991702411527, 1.5307495321567446, 1.4958033866112406, 2.022227071852666, 2.4788835185600924, 2.413903446747925, 1.9559891379302563, 3.4632217770520333, 3.9156701192480066, 3.4174364322346737, 25.836835337085972, 29.41057296249485, 34.55930313427188, 2.9594835172845935, 7.124722956085324, 2.819317097883403, 18.829885007640414, 33.99005668029353, 282.3303848788478, 35.61204154028029, 18.877492270937434, 17.888763290339465, 12.034473768775285, 26.894445492335723, 18.5475729630691, 19.66567629218804, 28.611229238722878, 137.2111467644776, 17.325847228833986, 13.840563205762198, 23.84363873177154, 35.0581545272958, 11.660148597196963, 94.92263239282539, 46.42931325469098, 92.63075289829521, 39.53197156107397, 15.715792347145982, 30.069487422501854, 24.438546912353267, 76.51347423525037, 44.550066982666856, 48.04022155929513, 36.653010711317016, 70.23664303339378, 53.93586540030012, 47.97014190639556, 51.7749118296922, 44.385768243698834, 71.00071051305474, 36.31922538011112, 56.0516245036516, 41.8731736944619, 39.12296728434362, 37.67160923028894, 43.07436483863093, 42.185466490818385, 33.98057418593035, 30.794458216117746, 1.6719872203585446, 1.6700978827910615, 2.1957319903691577, 2.1337261037452833, 1.5406656102938643, 1.92936398148021, 1.4734636911748102, 1.462151167607049, 1.4584788632598056, 2.3631011067047067, 1.9263730358613123, 1.4300891841365866, 1.3646431708235625, 1.8367937960406293, 1.393589131299371, 0.9142526255628183, 0.9142245862199617, 0.914147606906732, 0.9141240451392807, 0.9141151074806927, 0.9140859293794988, 0.9140326825039569, 0.9139998639779205, 0.9139873636336948, 0.9139886524354596, 0.913989123344943, 0.9139798991037829, 0.9139658555486265, 0.9139660747907989, 0.9139648428001623, 1.844685616279539, 6.494177436792713, 7.818646439869387, 2.137029003162141, 1.3438608766562357, 1.722545905244289, 1.7214592083774682, 1.3181757737324824, 1.6589619866141843, 2.4577535329800106, 12.721666488652751, 25.81068926729865, 1.6080608768981992, 1.6698850980752358, 8.5486098560295, 5.995071923214109, 24.769522783030816, 119.71422790027934, 15.886037265219125, 3.7933966177333645, 191.03470415661386, 112.63345955321999, 23.288509932004214, 15.675906604302389, 22.543917319443047, 37.41458691411349, 82.56111845532428, 31.30974928765781, 27.09502401861684, 34.02926509511599, 32.161643014568746, 51.160500433105696, 10.195700214405976, 31.18386800957585, 36.320439006406644, 37.05075175626404, 15.962983460728893, 29.691787895220354, 20.86414881559285, 54.703395860793734, 31.72593821298484, 36.602701992760174, 29.718223054288487, 23.727411445196335, 23.302346370882788, 43.00227722587643, 35.499907435244474, 28.788172515780605, 30.74003574384582, 23.011093304076685, 26.897820864134257, 29.086179200258833, 28.41594378060075, 23.321611644490456, 6.616491548590253, 3.0636527296357334, 1.6078124131446418, 1.6051209906562856, 1.5971670487210539, 1.585057451888883, 1.5500444236002437, 2.0884734964182057, 2.0628465469699306, 1.502728883344027, 1.5028060505728582, 1.9143448519604045, 1.4316021423620335, 2.900249584406717, 1.862303389996283, 1.4120483573633962, 1.3804021886535465, 1.3870442577913245, 2.268437598484327, 1.3356842595389322, 1.3524080155290763, 1.3406092504815268, 1.3411146838099801, 0.8780835829810707, 0.8780759485605524, 0.8779952080049085, 0.8779826333040704, 0.8779796203925956, 0.877965010504852, 0.877911474227395, 1.319450437701115, 1.7492530757518958, 1.2882497682564453, 1.3135503043140184, 3.3969090311164654, 1.6738648531485205, 1.3021858523407133, 119.39449902427184, 104.95121574531605, 4.088035295550303, 5.2925543444322045, 6.655347613801589, 3.949887035138615, 24.040093517911952, 3.2849949939697405, 56.98007119068638, 94.73142014912203, 28.044603567555704, 10.01450117302171, 30.73367645225161, 37.65823568924891, 17.902832859158803, 41.14457897204517, 40.227411849857006, 16.368114601149195, 12.642122537900052, 34.94414477538947, 52.931608033544286, 11.976033882169828, 130.08090550670903, 27.22534605412866, 48.24656108777648, 58.58967593784881, 30.017383112641983, 14.348941835710221, 13.342839076683651, 18.238897088030832, 55.43197972570735, 31.677797314879175, 28.096993634286445, 35.10563935429212, 50.30135763732935, 60.788887428287545, 34.28166303797583, 21.985330241197993, 21.732821504994543, 26.78371375665786, 37.11037971536709, 21.451891700746476, 20.314185048328188, 24.28758539569549], \"Term\": [\"good\", \"works\", \"vacuum\", \"great\", \"love\", \"vacuum.\", \"easy\", \"dyson\", \"carpet\", \"like\", \"house\", \"don't\", \"dirt\", \"perfect\", \"floor\", \"product.\", \"picks\", \"floors\", \"use\", \"carpet.\", \"wife\", \"small\", \"it's\", \"thing\", \"loves\", \"hard\", \"got\", \"&\", \"old\", \"way\", \"ever!\", \"quality,\", \"taxes\", \"vacuum..\", \"changed.\", \"basket\", \"dispose\", \"couch.\", \"east\", \"south\", \"reputation.\", \"operate!\", \"maneuverable.\", \"mot\\u00f6rhead\", \"else!\", \"good~\", \"true!\", \"perform\", \"gone!\", \"purchased!\", \"pick-ups\", \"unboxing\", \"we'd\", \"hefty\", \"constantly.\", \"portability,\", \"everyone.\", \"burn\", \"bird\", \"messes,\", \"needless\", \"vacuum!!\", \"excellent.\", \"easy\", \"convenience.\", \"power\", \"!!!\", \"install\", \"love,\", \"best\", \"product\", \"love\", \"definitely\", \".\", \"use\", \"hair\", \"convenient\", \"while.\", \"use,\", \"great\", \"dog\", \"amazing\", \"it's\", \"size\", \"time\", \"machine.\", \"pet\", \"battery\", \"-\", \"charge\", \"thought\", \"cord\", \"dyson\", \"little\", \"used\", \"clean\", \"hardwood\", \"vacuum\", \"long\", \"i'm\", \"cordless\", \"light\", \"it.\", \"use.\", \"attachments\", \"minutes\", \"suction\", \"floors\", \"bought\", \"like\", \"cleaning\", \"works\", \"really\", \"damn\", \"best!!\", \"mouth\", \"1900\", \"probability\", \"cleanup.\", \"outside.\", \"hyper\", \"luv\", \"appreciated\", \"$.\", \"verry\", \"bite\", \"rocks!\", \"magical.\", \"swing\", \"softer\", \"beautiful\", \"over-priced\", \"ot\", \"owned!\", \"animals,\", \"entry\", \"hygienic\", \"costco,\", \"available.\", \"ridiculously\", \"shocked\", \"5th\", \"one!\", \"said\", \"delivery.\", \"(with\", \"extension\", \"charged,\", \"room\", \"sure\", \"wanted\", \"plastic\", \"machine\", \"thing\", \"absolute\", \"new\", \"awkward\", \"v8\", \"it.\", \"able\", \"vacuum\", \"costco\", \"really\", \"charged\", \"need.\", \"work\", \"lot\", \"dyson\", \"vacuum.\", \"time\", \"battery\", \"it\\u2019s\", \"it's\", \"suction\", \"wish\", \"worth\", \"using\", \"like\", \"long\", \"dust\", \"attachments\", \"love\", \"power\", \"bought\", \"house\", \"use\", \"good\", \"life\", \"i've\", \"cordless\", \"don't\", \"clean\", \"easy\", \"great\", \"light\", \"works\", \"deposited\", \"use.fine\", \"cyllinder,\", \"nothing.\", \"priced.\", \"last,\", \"\\\"suction\\\"\", \"fail\", \"apply\", \"money?\", \"product...i\", \"anyone.\", \"intended\", \"later,\", \"balanced.\", \"immediately.\", \"soooooo\", \"v&\", \"controller...\", \"crosswave\", \"hours,\", \"21st\", \"bottom,\", \"inner\", \"700\", \"multi-floor\", \"perfectly,\", \"vacumn\", \"persian\", \"internet\", \"everything,\", \"own.\", \"nice,\", \"loves\", \"&\", \"wife\", \"eye\", \"died\", \"purple\", \"dyson,\", \"purchased\", \"vacuum\", \"way\", \"ball\", \"highly\", \"weight,\", \"nice\", \"30\", \"cleans\", \"job\", \"dyson\", \"second\", \"carpets\", \"3\", \"use.\", \"needs\", \"easy\", \"light\", \"great\", \"buy\", \"vacuumed\", \"cord\", \"canister\", \"battery\", \"worth\", \"best\", \"minutes\", \"use\", \"suction\", \"vacuum.\", \"it.\", \"really\", \"love\", \"floors\", \"it's\", \"clean\", \"bought\", \"used\", \"like\", \"good\", \"house\", \"vacuuming\", \"attachments!\", \"goodgood\", \"accidentally\", \"pergo\", \"cleans!\", \"bar.\", \"themselves.\", \"cleaner!!\", \"tunnel,\", \"round\", \"dyson!!!\", \"smoothly,\", \"repairs,\", \"sole\", \"ive\", \"thyroid\", \"carpel\", \"trailers\", \"rv's.\", \"go-to\", \"afire.\", \"(crevice\", \"credit\", \"day...\", \"unfixable.\", \"[including\", \"granny\", \"deals\", \"\\\"upgraded\\\"\", \"exhausting\", \"owner.\", \"cleaner!\", \"motorhead\", \"basement.\", \"wise.\", \"prices\", \"rainbow\", \"bothered\", \"brushbar\", \"everyday.\", \"v8.\", \"perfect\", \"storage,\", \"appliance.\", \"product!\", \"prior\", \"product.\", \"love\", \"believe\", \"keeping\", \"vacuum\", \"dyson\", \"v6\", \"year\", \"it!\", \"floors\", \"great\", \"dust\", \"got\", \"carpet\", \"hard\", \"like\", \"live\", \"floor\", \"house\", \"bought\", \"up.\", \"life\", \"cleaner\", \"use\", \"don't\", \"vacuum.\", \"cordless\", \"old\", \"small\", \"battery\", \"good\", \"v8\", \"clean\", \"dirt\", \"used\", \"suction\", \"easy\", \"using\", \"good!!\", \"product!!\", \"accessories,\", \"fabulous.\", \"awesome!!!\", \"powerfull\", \"long!\", \"lean\", \"cars,\", \"need?\", \"flimsy,\", \"place,\", \"that?\", \"pros:\", \"mats,\", \"otherwise,\", \"movement\", \",,\", \"often,\", \"setting!\", \"they've\", \"bread\", \"duster,\", \"tilting\", \"small/easy\", \"car).\", \"(cats\", \"confident\", \"removal.\", \"cordlessly.\", \"hard,\", \"way!\", \"fuzz\", \"broom,\", \"blue\", \"satisfactory.\", \"explosion\", \"good\", \"works\", \"position\", \"thanks\", \"good!\", \"perfectly\", \"carpet.\", \"incredible.\", \"vacuum.\", \"great\", \"picks\", \"goes\", \"dirt\", \"carpet\", \"bit\", \"don't\", \"house\", \"upright\", \"light,\", \"cleaning\", \"like\", \"lightweight,\", \"vacuum\", \"small\", \"suction\", \"it's\", \"floor\", \"problem\", \"awesome\", \"easily\", \"use\", \"worth\", \"thing\", \"really\", \"easy\", \"dyson\", \"it.\", \"2\", \"vacuuming\", \"clean\", \"love\", \"hard\", \"old\", \"battery\"], \"Total\": [335.0, 293.0, 1413.0, 582.0, 667.0, 288.0, 580.0, 830.0, 194.0, 354.0, 227.0, 222.0, 144.0, 81.0, 179.0, 87.0, 122.0, 198.0, 516.0, 86.0, 80.0, 144.0, 478.0, 186.0, 52.0, 180.0, 134.0, 63.0, 147.0, 109.0, 14.002707147819825, 3.7205230763778996, 3.721047477371092, 3.718808415053134, 2.76024843020036, 2.7601650413857453, 2.760051585236061, 2.760105053603692, 2.7598459794035324, 2.759808640257363, 2.759643485502936, 2.7595222327052253, 2.759997851385655, 2.7567213345721733, 3.682935118572073, 2.753221918811844, 2.747178550559833, 4.582700566810728, 2.759078459370942, 2.74914569864813, 2.7446723459526705, 2.747555421525039, 3.7039014441006652, 2.7447945321367038, 3.6845812293054534, 3.712822328595984, 5.481120798697871, 2.7293565366897745, 3.6341464239283416, 3.671281411193209, 6.499165441928101, 17.407618387789576, 9.904981640975198, 580.1548590312756, 7.268544723621291, 281.2244415210339, 8.194064734231256, 8.32392078877163, 21.391574101059064, 263.67058864287685, 181.9104573034271, 667.0127846668356, 65.39367054513438, 34.43299518079934, 516.7149924104167, 173.5535758538472, 56.016235867056366, 7.312199275797724, 63.139963064879446, 582.6525120434791, 112.5284443125622, 74.55287505993817, 478.76230558614463, 31.669556341643, 298.93874585097035, 29.990270723273035, 69.9275664354978, 488.74631051120116, 160.145189464945, 167.04929069318152, 81.11254495283644, 123.98580983278218, 830.0329802897595, 160.37600558074564, 227.2642019717617, 270.53169140285985, 126.59372220339769, 1413.4193535113475, 207.5068128382102, 180.39659478252594, 210.15578296734125, 216.80791704934322, 356.9303756810737, 139.5877880057168, 161.05417827097995, 175.97248674579086, 347.25377581397345, 198.87353487625998, 236.78571762476074, 354.8146021128276, 194.11976126384178, 293.97177550332054, 277.69456827755505, 3.660445531941037, 3.658759526894478, 4.55516605663012, 4.569481148081205, 2.7201015555596086, 2.719996354148692, 2.719852020898828, 2.7199546535947636, 2.718999305300667, 2.7186936284121432, 2.7185713915290917, 2.718525655560956, 2.7170475912292527, 2.7171605872412132, 2.713180289409949, 4.466938326294718, 2.7033556435563133, 8.17216466355217, 3.5774579281265613, 2.7042114304420752, 4.461878050530765, 2.7127303329160037, 2.714950384262958, 2.679582544277363, 3.5604748037148313, 3.6180619222786947, 6.2018216972900415, 8.986066559995006, 3.6568018220137497, 6.163523004082203, 43.287916261180094, 4.392302334139276, 7.253609078328366, 18.465150350607935, 5.274160237637284, 71.09043687638913, 55.2160210945681, 59.95527678518818, 43.58257343142108, 107.17796531524995, 186.1460412424999, 67.4907597115957, 172.3143567796229, 18.33122419722953, 230.79697069576375, 356.9303756810737, 56.90985983773772, 1413.4193535113475, 9.733638362152547, 277.69456827755505, 58.379001574627154, 8.095641267553038, 119.23272646449021, 91.78146093449222, 830.0329802897595, 288.2693875212615, 298.93874585097035, 488.74631051120116, 74.95190470836306, 478.76230558614463, 347.25377581397345, 95.81281553525594, 223.3792348665886, 181.35370614242817, 354.8146021128276, 207.5068128382102, 157.80694936087062, 161.05417827097995, 667.0127846668356, 281.2244415210339, 236.78571762476074, 227.07218877721357, 516.7149924104167, 335.04823797119514, 173.58451535180023, 180.45390749494112, 210.15578296734125, 222.47407216896403, 270.53169140285985, 580.1548590312756, 582.6525120434791, 216.80791704934322, 293.97177550332054, 3.235545373480557, 3.23563856593935, 3.235642446603935, 2.4366415065858202, 2.4366380576911837, 2.436635829274378, 2.4366789898595345, 2.4366933807814934, 2.436722589818808, 2.4367115447841066, 2.4367589155403127, 2.436792870621436, 3.23320837880721, 3.273108294783937, 2.4542515971109267, 3.2990838803248077, 2.4295075360486136, 2.4231047623345368, 2.463674123388593, 2.4673500266456734, 3.2730098889772954, 2.4708752371224967, 4.1058926606809925, 4.107059792839397, 2.4728240201937477, 2.4383360750349707, 3.3136091611273732, 4.073681617927764, 3.9855446519942213, 3.2648561619204215, 5.858868581600342, 6.664629401944551, 5.841024437113862, 52.09560371777327, 63.297117036021774, 80.30052619058455, 5.02582448899851, 14.315035609950762, 4.804174255666502, 47.50437878235616, 97.82482857349979, 1413.4193535113475, 109.6684857078202, 51.3056273592493, 48.45365500048109, 29.610142093450953, 83.14285502724664, 53.27766112524605, 59.27176239614772, 98.09944194194381, 830.0329802897595, 51.97082126054427, 39.538670192860685, 82.7328995141735, 139.5877880057168, 32.21695500595708, 580.1548590312756, 216.80791704934322, 582.6525120434791, 175.75894727176149, 49.08097506047919, 123.98580983278218, 92.64006023463044, 488.74631051120116, 223.3792348665886, 263.67058864287685, 175.97248674579086, 516.7149924104167, 347.25377581397345, 288.2693875212615, 356.9303756810737, 277.69456827755505, 667.0127846668356, 198.87353487625998, 478.76230558614463, 270.53169140285985, 236.78571762476074, 227.2642019717617, 354.8146021128276, 335.04823797119514, 227.07218877721357, 156.05539856695117, 2.363677674207627, 2.3640381395649, 3.1159154644693197, 3.1815955637834863, 2.3937199318722597, 3.1090164012925916, 2.3769647562316165, 2.4023981525409623, 2.397531538353344, 3.919170957883958, 3.243280754052434, 2.42164198125882, 2.36372012884338, 3.195224583615655, 2.4357221713743753, 1.6010592368806182, 1.6010636173914297, 1.601069760340316, 1.6010682182067433, 1.6010767554904133, 1.6010730460551774, 1.6010819973708126, 1.6010897523817307, 1.6010816605395097, 1.6010862390597465, 1.6010917328211047, 1.601088146528108, 1.6010822471646096, 1.6010933174368969, 1.6010921102233782, 3.2358320193315153, 12.182562870331822, 16.471557922961704, 4.043801107338438, 2.441016172909219, 3.2262774094354008, 3.272832391735874, 2.4220266507896913, 3.1492405415826004, 4.995920426435886, 33.968836924510256, 81.44272434232943, 3.125538570386987, 3.280824622516621, 23.56841117329192, 15.407229023327584, 87.7223369978847, 667.0127846668356, 54.77291022250809, 9.044806878456313, 1413.4193535113475, 830.0329802897595, 101.83263032600829, 60.635249873295386, 100.05709432996005, 198.87353487625998, 582.6525120434791, 157.80694936087062, 134.91193157378436, 194.14323025971402, 180.5047632656633, 354.8146021128276, 36.011576734643576, 179.3619064902768, 227.07218877721357, 236.78571762476074, 69.50639356462824, 173.58451535180023, 112.08830501001611, 516.7149924104167, 222.47407216896403, 288.2693875212615, 210.15578296734125, 147.73019876275697, 144.039488835435, 488.74631051120116, 335.04823797119514, 230.79697069576375, 270.53169140285985, 144.7567393635694, 227.2642019717617, 347.25377581397345, 580.1548590312756, 181.35370614242817, 7.447848520848167, 3.7686786703653574, 2.3033316266910155, 2.303825332140367, 2.305357076653025, 2.3074356990688534, 2.308632937931968, 3.114115621553422, 3.114332872354782, 2.307795947104136, 2.3363408916904387, 3.1311988564652724, 2.3464508101405652, 4.762968184665397, 3.0741233072413268, 2.3514052321576937, 2.3581185071110644, 2.372631200481557, 3.9906015434197144, 2.3529249795343103, 2.382769404140271, 2.3787187453147625, 2.387018861074705, 1.5709597148033736, 1.5709613930434074, 1.57096890033865, 1.5709770456562953, 1.5709779099721504, 1.5709738139322758, 1.5709908424919945, 2.364877784773409, 3.158326204834396, 2.3182319824770365, 2.376547778550602, 6.46174654131627, 3.1338881556069182, 2.3991697405115313, 335.04823797119514, 293.97177550332054, 8.864047457166881, 12.44390811737616, 16.415317039283458, 8.843730889684224, 86.0402881556019, 7.269417191304395, 288.2693875212615, 582.6525120434791, 122.66435175201144, 32.232963359431224, 144.7567393635694, 194.14323025971402, 71.1671217339826, 222.47407216896403, 227.07218877721357, 64.61481574230287, 45.31157509166964, 194.11976126384178, 354.8146021128276, 42.9360567258003, 1413.4193535113475, 144.039488835435, 347.25377581397345, 478.76230558614463, 179.3619064902768, 59.76059801580559, 53.96151858252355, 87.41743414874205, 516.7149924104167, 223.3792348665886, 186.1460412424999, 277.69456827755505, 580.1548590312756, 830.0329802897595, 356.9303756810737, 145.04032829674458, 156.05539856695117, 270.53169140285985, 667.0127846668356, 180.5047632656633, 147.73019876275697, 488.74631051120116], \"loglift\": [30.0, 29.0, 28.0, 27.0, 26.0, 25.0, 24.0, 23.0, 22.0, 21.0, 20.0, 19.0, 18.0, 17.0, 16.0, 15.0, 14.0, 13.0, 12.0, 11.0, 10.0, 9.0, 8.0, 7.0, 6.0, 5.0, 4.0, 3.0, 2.0, 1.0, 1.0396, 1.0129, 1.0116, 1.0101, 0.9378, 0.9375, 0.9372, 0.9371, 0.9367, 0.9366, 0.936, 0.9359, 0.9333, 0.9309, 0.9196, 0.9189, 0.9154, 0.9127, 0.9124, 0.9101, 0.9071, 0.906, 0.8976, 0.895, 0.8919, 0.8819, 0.8788, 0.8756, 0.8699, 0.8687, 0.8671, 0.8373, 0.8357, 0.5885, 0.8398, 0.5477, 0.8202, 0.8148, 0.7298, 0.493, 0.5199, 0.384, 0.6035, 0.6677, 0.367, 0.4637, 0.5951, 0.8264, 0.5672, 0.2806, 0.4778, 0.5264, 0.2842, 0.6364, 0.3199, 0.6361, 0.5174, 0.2235, 0.3888, 0.3683, 0.4655, 0.3862, 0.037, 0.3319, 0.2638, 0.2278, 0.3593, -0.1846, 0.2342, 0.2651, 0.2117, 0.1862, -0.0148, 0.2888, 0.2367, 0.2041, -0.0532, 0.1579, 0.0821, -0.119, 0.154, -0.0642, -0.1753, 1.0514, 1.0478, 1.0206, 0.9931, 0.9744, 0.9741, 0.9739, 0.9739, 0.971, 0.97, 0.9695, 0.9695, 0.9677, 0.9645, 0.9545, 0.9381, 0.9368, 0.9261, 0.9197, 0.9192, 0.9049, 0.9046, 0.8879, 0.8873, 0.8868, 0.8858, 0.8823, 0.8823, 0.8796, 0.8779, 0.7814, 0.8677, 0.8379, 0.7729, 0.8536, 0.6303, 0.6514, 0.6404, 0.6657, 0.5571, 0.4842, 0.5871, 0.4682, 0.7365, 0.4249, 0.3575, 0.5839, 0.1212, 0.8034, 0.2944, 0.5281, 0.8159, 0.4109, 0.4482, 0.0928, 0.2562, 0.2388, 0.1432, 0.4587, 0.1376, 0.1634, 0.4042, 0.2315, 0.2664, 0.1065, 0.2169, 0.2275, 0.2105, -0.2721, 0.0209, 0.0638, 0.0679, -0.2725, -0.1146, 0.1677, 0.1445, 0.0428, 0.0031, -0.1129, -0.5774, -0.7169, -0.011, -0.321, 1.562, 1.5616, 1.561, 1.4711, 1.471, 1.4709, 1.4706, 1.4706, 1.47, 1.4698, 1.4697, 1.4417, 1.4295, 1.4241, 1.4129, 1.3973, 1.3819, 1.3702, 1.3643, 1.3551, 1.351, 1.3442, 1.3238, 1.3237, 1.3192, 1.3101, 1.3049, 1.302, 1.2973, 1.2864, 1.273, 1.2669, 1.2627, 1.0975, 1.0323, 0.9557, 1.2692, 1.101, 1.2658, 0.8734, 0.7417, 0.1881, 0.674, 0.7989, 0.8023, 0.8984, 0.6701, 0.7436, 0.6955, 0.5666, -0.0012, 0.7003, 0.7491, 0.5547, 0.4171, 0.7824, -0.0115, 0.2577, -0.0402, 0.3068, 0.66, 0.3821, 0.4662, -0.0556, 0.1865, 0.0961, 0.2299, -0.1969, -0.0635, 0.0054, -0.1319, -0.0348, -0.4414, 0.0984, -0.3462, -0.067, -0.0017, 0.0016, -0.3099, -0.2734, -0.1007, 0.1759, 1.7335, 1.7322, 1.7297, 1.6801, 1.639, 1.6025, 1.6014, 1.5831, 1.5826, 1.5738, 1.5587, 1.5529, 1.5303, 1.526, 1.5213, 1.5193, 1.5193, 1.5192, 1.5192, 1.5192, 1.5192, 1.5191, 1.519, 1.519, 1.519, 1.519, 1.519, 1.519, 1.519, 1.519, 1.5177, 1.4506, 1.3345, 1.4419, 1.4828, 1.4521, 1.4372, 1.4713, 1.4387, 1.3703, 1.0975, 0.9305, 1.4151, 1.4043, 1.0655, 1.1358, 0.8151, 0.362, 0.8419, 1.2107, 0.0783, 0.0823, 0.6043, 0.7269, 0.5894, 0.409, 0.1256, 0.4622, 0.4744, 0.3383, 0.3547, 0.143, 0.8178, 0.3302, 0.2468, 0.2248, 0.6085, 0.3139, 0.3984, -0.1659, 0.132, 0.0159, 0.1236, 0.2509, 0.2581, -0.3509, -0.1651, -0.0019, -0.0952, 0.2406, -0.0544, -0.4001, -0.9367, 0.0286, 1.9775, 1.8888, 1.7364, 1.7345, 1.7289, 1.7204, 1.6975, 1.6964, 1.684, 1.6669, 1.6547, 1.6039, 1.6018, 1.5998, 1.5947, 1.5859, 1.5604, 1.5591, 1.5311, 1.5297, 1.5295, 1.5225, 1.5194, 1.5142, 1.5142, 1.5141, 1.5141, 1.5141, 1.5141, 1.514, 1.5124, 1.5051, 1.5084, 1.503, 1.4529, 1.4688, 1.4848, 1.0641, 1.0659, 1.322, 1.241, 1.1931, 1.2899, 0.8208, 1.3016, 0.4747, 0.2794, 0.6202, 0.9269, 0.5462, 0.4559, 0.7158, 0.4082, 0.3652, 0.7228, 0.8194, 0.3812, 0.1933, 0.8191, -0.2897, 0.43, 0.1222, -0.0047, 0.3083, 0.6692, 0.6986, 0.5288, -0.1364, 0.1427, 0.205, 0.0277, -0.3494, -0.5182, -0.247, 0.2093, 0.1245, -0.2167, -0.793, -0.034, 0.1118, -0.906], \"logprob\": [30.0, 29.0, 28.0, 27.0, 26.0, 25.0, 24.0, 23.0, 22.0, 21.0, 20.0, 19.0, 18.0, 17.0, 16.0, 15.0, 14.0, 13.0, 12.0, 11.0, 10.0, 9.0, 8.0, 7.0, 6.0, 5.0, 4.0, 3.0, 2.0, 1.0, -7.4903, -8.8424, -8.8435, -8.8456, -9.216, -9.2163, -9.2166, -9.2167, -9.2172, -9.2174, -9.218, -9.2181, -9.2205, -9.2241, -8.9457, -9.2374, -9.2431, -8.7341, -9.2418, -9.2477, -9.2523, -9.2523, -8.962, -9.2644, -8.973, -8.9754, -8.589, -9.2894, -9.0088, -8.9999, -8.4303, -7.4749, -8.0404, -4.2173, -8.3458, -4.9823, -8.2454, -8.2352, -7.3762, -5.1013, -5.4457, -4.2823, -6.3852, -6.9623, -4.5546, -5.5489, -6.5484, -8.3531, -6.4565, -4.5209, -5.9681, -6.3312, -4.7137, -7.0774, -5.1489, -7.1321, -6.4042, -4.7538, -5.7042, -5.6825, -6.3078, -5.9627, -4.4106, -5.7597, -5.4792, -5.3409, -5.9688, -4.0999, -5.5997, -5.7088, -5.6096, -5.6038, -5.3063, -5.9416, -5.8506, -5.7947, -5.3722, -5.7185, -5.6198, -5.4164, -5.7467, -5.5497, -5.7179, -8.8201, -8.8242, -8.6322, -8.6566, -9.194, -9.1944, -9.1946, -9.1946, -9.1978, -9.1989, -9.1995, -9.1995, -9.2019, -9.205, -9.2165, -8.7343, -9.2378, -8.1422, -8.9748, -9.2551, -8.7686, -9.2665, -9.2824, -9.2961, -9.0124, -8.9974, -8.462, -8.0911, -8.9929, -8.4725, -6.6198, -8.8216, -8.3496, -7.4803, -8.6527, -6.2749, -6.5065, -6.4351, -6.7287, -5.9375, -5.4583, -6.37, -5.5516, -7.524, -5.3026, -4.9341, -6.5437, -3.7941, -8.0901, -5.2482, -6.574, -8.2618, -5.9771, -6.2014, -4.3548, -5.249, -5.23, -4.834, -6.3935, -4.8603, -5.1557, -6.2025, -5.5287, -5.7022, -5.191, -5.617, -5.8802, -5.8768, -4.9383, -5.509, -5.6381, -5.6759, -5.1941, -5.4695, -5.8448, -5.8291, -5.7784, -5.7611, -5.6815, -5.3832, -5.5184, -5.8011, -5.8066, -8.4329, -8.4333, -8.4339, -8.8073, -8.8075, -8.8076, -8.8078, -8.8078, -8.8084, -8.8086, -8.8087, -8.8367, -8.5661, -8.5592, -8.8583, -8.5781, -8.8995, -8.9139, -8.9031, -8.9108, -8.6324, -8.9203, -8.4328, -8.4327, -8.9446, -8.9677, -8.6661, -8.4625, -8.4891, -8.6994, -8.1281, -8.0053, -8.1414, -6.1185, -5.989, -5.8276, -8.2853, -7.4067, -8.3338, -6.4349, -5.8443, -3.7272, -5.7976, -6.4323, -6.4861, -6.8825, -6.0784, -6.45, -6.3914, -6.0165, -4.4488, -6.5181, -6.7427, -6.1988, -5.8133, -6.9141, -4.8173, -5.5324, -4.8417, -5.6932, -6.6157, -5.9668, -6.1742, -5.0329, -5.5737, -5.4983, -5.7688, -5.1184, -5.3825, -5.4997, -5.4234, -5.5774, -5.1076, -5.778, -5.344, -5.6357, -5.7036, -5.7414, -5.6074, -5.6282, -5.8445, -5.943, -8.5754, -8.5765, -8.3029, -8.3316, -8.6572, -8.4322, -8.7018, -8.7095, -8.712, -8.2294, -8.4338, -8.7317, -8.7785, -8.4814, -8.7575, -9.1791, -9.1791, -9.1792, -9.1792, -9.1792, -9.1793, -9.1793, -9.1793, -9.1794, -9.1794, -9.1794, -9.1794, -9.1794, -9.1794, -9.1794, -8.4771, -7.2185, -7.0329, -8.33, -8.7939, -8.5456, -8.5463, -8.8132, -8.5832, -8.1902, -6.5461, -5.8386, -8.6144, -8.5767, -6.9437, -7.2985, -5.8798, -4.3043, -6.324, -7.7562, -3.837, -4.3653, -5.9415, -6.3373, -5.974, -5.4674, -4.6759, -5.6455, -5.7901, -5.5622, -5.6186, -5.1545, -6.7675, -5.6495, -5.497, -5.4771, -6.3192, -5.6986, -6.0514, -5.0875, -5.6323, -5.4893, -5.6977, -5.9228, -5.9409, -5.3282, -5.5199, -5.7295, -5.6639, -5.9534, -5.7974, -5.7192, -5.7425, -5.94, -7.1836, -7.9536, -8.5983, -8.6, -8.6049, -8.6126, -8.6349, -8.3367, -8.3491, -8.6659, -8.6658, -8.4238, -8.7144, -8.0084, -8.4514, -8.7281, -8.7508, -8.746, -8.2541, -8.7837, -8.7713, -8.7801, -8.7797, -9.2032, -9.2032, -9.2033, -9.2033, -9.2033, -9.2033, -9.2034, -8.796, -8.514, -8.8199, -8.8004, -7.8503, -8.558, -8.8091, -4.2907, -4.4197, -7.6651, -7.4069, -7.1778, -7.6995, -5.8935, -7.8838, -5.0305, -4.5221, -5.7394, -6.7691, -5.6478, -5.4446, -6.1882, -5.3561, -5.3786, -6.2778, -6.5361, -5.5194, -5.1042, -6.5903, -4.205, -5.769, -5.1969, -5.0026, -5.6714, -6.4095, -6.4822, -6.1696, -5.058, -5.6176, -5.7375, -5.5148, -5.1551, -4.9658, -5.5386, -5.9828, -5.9944, -5.7854, -5.4593, -6.0074, -6.0619, -5.8832]}, \"token.table\": {\"Topic\": [1, 2, 5, 3, 4, 2, 1, 2, 3, 4, 5, 5, 4, 1, 2, 3, 5, 1, 2, 3, 4, 5, 1, 2, 3, 4, 5, 2, 1, 2, 3, 4, 5, 3, 1, 2, 3, 4, 5, 1, 2, 3, 4, 5, 1, 2, 3, 4, 1, 2, 3, 4, 5, 1, 2, 3, 4, 5, 5, 4, 4, 1, 2, 3, 4, 5, 2, 3, 1, 4, 3, 2, 1, 2, 3, 4, 5, 4, 2, 1, 2, 3, 4, 5, 5, 1, 2, 3, 4, 5, 3, 1, 2, 3, 4, 5, 4, 5, 1, 2, 3, 4, 1, 1, 2, 3, 4, 5, 1, 2, 3, 1, 2, 3, 4, 5, 1, 2, 3, 4, 5, 2, 1, 1, 2, 3, 4, 5, 2, 1, 2, 5, 4, 3, 1, 2, 3, 4, 5, 2, 5, 5, 4, 5, 1, 1, 2, 3, 4, 5, 1, 2, 3, 4, 5, 5, 4, 1, 2, 3, 4, 5, 1, 2, 3, 4, 5, 1, 2, 3, 4, 5, 2, 5, 1, 1, 2, 3, 4, 5, 1, 2, 3, 4, 5, 2, 5, 1, 2, 3, 4, 5, 1, 2, 3, 4, 5, 1, 2, 3, 4, 4, 1, 2, 3, 4, 5, 1, 2, 3, 4, 5, 4, 2, 5, 1, 3, 1, 3, 1, 2, 3, 4, 5, 1, 2, 3, 4, 5, 1, 2, 3, 4, 5, 5, 1, 2, 4, 5, 2, 4, 1, 4, 3, 3, 2, 4, 4, 1, 2, 3, 4, 5, 2, 5, 3, 1, 2, 3, 4, 5, 1, 2, 3, 4, 5, 1, 1, 2, 3, 4, 5, 1, 2, 3, 4, 5, 1, 2, 3, 4, 5, 1, 5, 1, 2, 3, 4, 5, 2, 4, 1, 2, 3, 4, 5, 1, 2, 3, 4, 5, 1, 1, 2, 3, 4, 5, 1, 2, 1, 3, 1, 2, 4, 1, 1, 2, 3, 1, 2, 3, 5, 4, 1, 5, 1, 2, 3, 4, 5, 1, 2, 3, 5, 3, 5, 1, 2, 3, 4, 5, 1, 2, 3, 4, 5, 5, 4, 1, 2, 3, 4, 5, 1, 1, 2, 3, 4, 5, 2, 3, 5, 5, 4, 1, 1, 2, 3, 4, 5, 4, 1, 2, 3, 4, 5, 1, 2, 3, 4, 5, 1, 2, 3, 4, 5, 5, 1, 2, 3, 4, 5, 1, 1, 2, 3, 4, 5, 3, 1, 2, 3, 4, 5, 2, 2, 1, 2, 3, 4, 5, 1, 2, 3, 4, 5, 3, 1, 2, 3, 4, 5, 2, 3, 1, 2, 3, 3, 3, 1, 2, 3, 4, 5, 1, 2, 3, 4, 5, 1, 2, 3, 4, 5, 1, 2, 3, 4, 5, 1, 4, 1, 2, 3, 4, 5, 1, 2, 3, 4, 5, 3, 3, 1, 5, 1, 2, 3, 4, 5, 1, 2, 3, 4, 5, 1, 2, 3, 4, 5, 1, 2, 3, 4, 5, 1, 2, 3, 4, 5, 1, 2, 3, 4, 5, 1, 2, 3, 4, 5, 1, 2, 3, 4, 5, 5, 1, 2, 3, 4, 5, 1, 2, 3, 4, 5, 1, 2, 3, 4, 5, 1, 2, 3, 4, 5, 2, 1, 2, 3, 4, 5, 1, 2, 3, 4, 5, 2, 1, 4, 5, 1, 1, 2, 3, 4, 5, 3, 1, 2, 3, 4, 5, 1, 2, 5, 3, 1, 2, 3, 5, 5, 1, 2, 1, 2, 3, 4, 5, 1, 2, 3, 4, 5, 1, 2, 3, 4, 5, 2, 3, 3, 2, 5, 1, 2, 3, 4, 5, 2, 5, 1, 2, 5, 2, 2, 2, 3, 2, 4, 1, 2, 3, 4, 5, 1, 2, 3, 4, 5, 2, 3, 1, 4, 3, 4, 1, 2, 3, 4, 5, 1, 1, 2, 3, 4, 5, 5, 1, 2, 3, 4, 5, 1, 2, 1, 2, 3, 4, 5, 1, 2, 3, 4, 5, 5, 3, 2, 4, 1, 2, 3, 4, 5, 2, 1, 2, 3, 4, 5, 1, 2, 3, 4, 5, 1, 2, 3, 4, 5, 5, 1, 2, 3, 4, 5, 3, 1, 5, 1, 2, 3, 4, 5, 1, 3, 5, 1, 2, 4, 1, 2, 3, 4, 5, 5, 4, 1, 2, 4, 2, 1, 2, 3, 4, 5, 3, 4, 4, 1, 2, 3, 4, 5, 3, 5, 1, 2, 3, 4, 5, 5, 1, 2, 4, 5, 1, 2, 3, 4, 5, 1, 2, 3, 4, 5, 5, 4, 2, 4, 3, 1, 4, 5, 1, 2, 3, 4, 5, 1, 2, 3, 4, 5, 2, 5, 1, 1, 2, 3, 5, 5, 4, 1, 5, 1, 2, 3, 4, 5, 1, 2, 3, 4, 5, 4, 5, 1, 2, 3, 4, 5, 4, 1, 4, 1, 4, 1, 2, 3, 4, 5, 1, 2, 3, 4, 5, 1, 2, 3, 4, 5, 1, 2, 3, 4, 5, 1, 2, 3, 4, 5, 3, 1, 2, 3, 4, 5, 1, 2, 3, 4, 5, 3, 1, 2, 3, 4, 5, 1, 2, 3, 4, 5, 1, 2, 3, 4, 5, 2, 3, 5, 1, 2, 3, 4, 5, 1, 2, 3, 5, 1, 2, 3, 4, 5, 1, 1, 2, 3, 4, 5, 1, 2, 3, 4, 5, 2, 1, 2, 3, 4, 5, 1, 2, 3, 4, 5, 1, 5, 1, 1, 2, 3, 4, 5, 1, 2, 3, 1, 2, 3, 4, 5, 2, 4, 1, 2, 3, 4, 5, 1, 2, 3, 4, 5, 1, 2, 3, 4, 5, 1, 2, 3, 4, 5, 1, 2, 3, 4, 5], \"Freq\": [0.7322373198901635, 0.12203955331502725, 0.12203955331502725, 0.8207892825945418, 0.6245732145087243, 0.7356805144907661, 0.26857463334902704, 0.1263880627524833, 0.458156727477752, 0.06319403137624165, 0.07899253922030207, 0.6365465381973404, 0.6245776304037717, 0.13786240603835456, 0.6893120301917728, 0.13786240603835456, 0.4214730042313516, 0.4433476911620974, 0.26226201449025477, 0.09366500517509099, 0.1436196746018062, 0.056199003105054594, 0.5808382307430658, 0.17425146922291976, 0.11616764614861316, 0.05808382307430658, 0.02904191153715329, 0.8753729078584034, 0.2551014633964426, 0.30336390241739114, 0.15857658535454539, 0.12410341462529638, 0.15168195120869557, 0.8094297801653219, 0.30217724927816764, 0.1813063495669006, 0.29009015930704096, 0.10878380974014036, 0.10878380974014036, 0.1501567417006813, 0.2440047052636071, 0.3566222615391181, 0.07507837085034065, 0.18769592712585162, 0.27346300091518605, 0.8203890027455581, 0.8087918847712011, 0.6245738326548047, 0.15814482807831437, 0.5095777793634575, 0.07028659025702862, 0.15814482807831437, 0.10542988538554292, 0.19261896081111157, 0.5185895098760697, 0.1185347451145302, 0.08890105883589765, 0.07408421569658137, 0.8683074451042969, 0.6418659372521281, 0.6245811223066067, 0.5097053597121398, 0.2548526798560699, 0.08047979363875891, 0.06706649469896576, 0.10730639151834521, 0.7372645838519944, 0.8207509239346863, 0.30480141886795836, 0.6096028377359167, 0.8207745963190327, 0.7356474370994509, 0.37875453251119706, 0.3539181697235776, 0.11176363254428766, 0.09313636045357304, 0.0620909069690487, 0.846139057716682, 0.8291732050043431, 0.3150393177686769, 0.2594441440447927, 0.09265862287314026, 0.07412689829851221, 0.24091241947016467, 0.8675445640306836, 0.054551730383131415, 0.6000690342144456, 0.16365519114939425, 0.054551730383131415, 0.10910346076626283, 0.8149123758763533, 0.13643727521320428, 0.2923655897425806, 0.3703297470072688, 0.13643727521320428, 0.07796415726468817, 0.6432902699286142, 0.3216451349643071, 0.24729208322962828, 0.24729208322962828, 0.24729208322962828, 0.49458416645925657, 0.7245943521536294, 0.37442737891687056, 0.33146030264772147, 0.1575459463202133, 0.08798020378921002, 0.04910523002188467, 0.12236659944702252, 0.7341995966821352, 0.12236659944702252, 0.3286296077180718, 0.12780040300147238, 0.14605760343025415, 0.2921152068605083, 0.09128600214390885, 0.4892468312979775, 0.19721577695732428, 0.18204533257599165, 0.05688916642999739, 0.07205961081133003, 0.8199500344168212, 0.8255033369726311, 0.2669772155605869, 0.19672005357095876, 0.1545657563771819, 0.12646289158133064, 0.2529257831626613, 0.7360931057873578, 0.15475692115220263, 0.30951384230440526, 0.4642707634566079, 0.4128773726226152, 0.7306571914869368, 0.32518853236757933, 0.30407239390215207, 0.16470588003033237, 0.15625942464416148, 0.0464555046239399, 0.42039438330809287, 0.42039438330809287, 0.42077841187349296, 0.635073749874607, 0.3175368749373035, 0.7327734479225075, 0.34137664643170046, 0.24465326327605197, 0.22758443095446695, 0.11379221547723348, 0.07396494006020177, 0.17271145937812038, 0.3670118511785058, 0.25906718906718057, 0.06476679726679514, 0.14032806074472282, 0.636549838627889, 0.6245848004648769, 0.27299432449485644, 0.27299432449485644, 0.0772625446683556, 0.175128434581606, 0.19573177982650083, 0.22082678251424417, 0.1975818580390606, 0.17433693356387697, 0.1278470846135098, 0.27893909370220316, 0.17704186726198895, 0.2529169532314128, 0.3540837345239779, 0.1264584766157064, 0.10116678129256511, 0.3210960552344197, 0.6421921104688394, 0.7245724617094791, 0.43101051013884273, 0.31128536843360866, 0.1257113987904958, 0.04190379959683193, 0.08380759919366386, 0.20555336124856705, 0.4796245095799898, 0.13703557416571135, 0.06851778708285568, 0.10277668062428352, 0.7584145759272415, 0.18960364398181037, 0.37703530950873926, 0.25505329760885304, 0.15524983332712794, 0.11458916269383253, 0.0998034642817251, 0.25872458324183406, 0.1962738217696672, 0.2230384338291673, 0.18735228441650054, 0.13382306029750038, 0.08208453431710158, 0.16416906863420316, 0.16416906863420316, 0.4925072059026095, 0.4162507363495608, 0.3502992150684568, 0.267875870346467, 0.10818063994761165, 0.09787772185736293, 0.18030106657935277, 0.30368592517454623, 0.13497152229979834, 0.3374288057494958, 0.13497152229979834, 0.08435720143737395, 0.8355196334249889, 0.7352951032266963, 0.6365461879840993, 0.8142037896028425, 0.8117956758214252, 0.6878956091101727, 0.13757912182203455, 0.535559013126108, 0.1606677039378324, 0.14281573683362878, 0.035703934208407194, 0.12496376972942519, 0.4435991511784912, 0.12098158668504305, 0.2419631733700861, 0.09678526934803444, 0.09678526934803444, 0.3711532411750068, 0.29977761787212087, 0.12847612194519467, 0.14275124660577185, 0.0618588735291678, 0.6365409478859492, 0.10273650641144785, 0.6164190384686872, 0.10273650641144785, 0.10273650641144785, 0.5617228348065529, 0.28086141740327647, 0.7246101003977108, 0.6245746052102523, 0.8105862477562501, 0.9271729029110554, 0.8195723645720197, 0.624577761800753, 0.624577532959922, 0.550511994507985, 0.19879599801677236, 0.04587599954233208, 0.1070439989321082, 0.1070439989321082, 0.6830130924008639, 0.227671030800288, 0.9272007200359008, 0.13971323959611717, 0.20956985939417574, 0.48899633858641006, 0.06985661979805859, 0.06985661979805859, 0.26941750809990295, 0.2141523782332562, 0.14507096589994772, 0.15888724836660942, 0.2141523782332562, 0.7246241377147827, 0.4798786682770453, 0.2221660501282617, 0.07997977804617422, 0.08886642005130468, 0.12441298807182656, 0.2966637835885635, 0.28767397196466765, 0.0854032104270107, 0.14383698598233383, 0.1842911382898652, 0.2661479749155724, 0.3612008230997054, 0.10138970472974188, 0.19644255291387488, 0.06970542200169753, 0.4189325925769061, 0.4189325925769061, 0.31083102253350675, 0.31444533674901265, 0.16505368250810243, 0.13613916878405527, 0.07349105571528648, 0.3083297672427877, 0.6166595344855754, 0.25260829227929993, 0.25260829227929993, 0.3999631294422249, 0.04210138204654999, 0.06315207306982498, 0.2974235088593497, 0.2516660459579113, 0.18302985160575366, 0.045757462901438416, 0.2059085830564729, 0.724678121505986, 0.5395111238448258, 0.1603020272126799, 0.1637493826366085, 0.048262975935000396, 0.086183885598215, 0.8145677030452666, 0.7366617127122751, 0.8569771454420769, 0.14282952424034615, 0.20016331619465064, 0.20016331619465064, 0.4003266323893013, 0.7297777492789914, 0.17068141844663998, 0.17068141844663998, 0.5120442553399199, 0.7067150908228047, 0.1009592986889721, 0.1009592986889721, 0.1009592986889721, 0.6245736854330535, 0.4168108588210137, 0.4168108588210137, 0.10831214271343062, 0.5957167849238684, 0.05415607135671531, 0.05415607135671531, 0.16246821407014592, 0.19897232825957056, 0.19897232825957056, 0.5969169847787117, 0.868121368446757, 0.8207844350767524, 0.8560394620122913, 0.29549195276240625, 0.25646471371831486, 0.10593107740539093, 0.17283491576669047, 0.16725959590324882, 0.35198247993909454, 0.19610452453749555, 0.18101956111153433, 0.1860478822535214, 0.08045313827179304, 0.43136321453537085, 0.624579675253419, 0.2792172689690549, 0.12409656398624663, 0.12409656398624663, 0.15512070498280828, 0.31024140996561655, 0.7248797123572889, 0.15520153251625385, 0.25667945762303523, 0.1253550839554358, 0.10446256996286317, 0.35517273787373477, 0.4264309963218082, 0.18275614128077494, 0.4264309963218082, 0.9398687393286074, 0.8460100395707233, 0.7264216467022399, 0.1704815855180394, 0.34837541388468923, 0.19271831406387063, 0.20013055691248105, 0.08153467133471451, 0.6245752316438403, 0.396462720446938, 0.14073568431449746, 0.15961486147863735, 0.14245197314760108, 0.16304743914484462, 0.47823848970934424, 0.24200019961195732, 0.06338100466027453, 0.12100009980597866, 0.097952461747697, 0.22714082032094088, 0.3102411204383583, 0.16066058022700697, 0.17728064025049045, 0.11634042016438435, 0.4228548326846477, 0.4265614365397866, 0.1895828606843496, 0.1342878596514143, 0.1500864313751101, 0.0947914303421748, 0.7286519907350174, 0.20638277958392842, 0.22702105754232124, 0.37148900325107115, 0.16510622366714273, 0.02063827795839284, 0.6110583431890981, 0.20698263513949267, 0.30827200978222313, 0.1497321190370798, 0.15853989074514332, 0.17615543416127036, 0.7463849189013751, 0.7353063762871, 0.3880339320395006, 0.3104271456316005, 0.1330402052706859, 0.08869347018045728, 0.07760678640790013, 0.33803645954139333, 0.33249487823743606, 0.1385395325989317, 0.07758213825540175, 0.11637320738310263, 0.6062289024924981, 0.13756260972285234, 0.27512521944570467, 0.13756260972285234, 0.13756260972285234, 0.41268782916855706, 0.2434831851592437, 0.730449555477731, 0.7208141634521039, 0.12013569390868399, 0.12013569390868399, 0.6185806065298634, 0.6125844143846079, 0.34980028387172507, 0.17989728884831577, 0.13992011354869002, 0.22986875797284792, 0.0999429382490643, 0.39894535925538316, 0.3300176270280133, 0.11696827287068826, 0.033419506534482356, 0.1232344303459037, 0.29417501886648095, 0.40904335956672594, 0.14568667601006677, 0.05323167008060132, 0.09525667277581289, 0.22681211459731132, 0.45362422919462264, 0.1467607800335544, 0.08005133456375693, 0.10673511275167591, 0.41055585557023616, 0.41055585557023616, 0.35678082675244305, 0.1936810202370405, 0.2956183993091671, 0.10193737907212659, 0.050968689536063295, 0.2211213602319989, 0.11056068011599945, 0.11056068011599945, 0.4422427204639978, 0.11056068011599945, 0.8208038213882759, 0.6110399717562731, 0.3211184559361889, 0.6422369118723777, 0.2995658909702438, 0.3398920686008535, 0.09217412029853655, 0.17282647555975603, 0.09793500281719508, 0.35976545995895537, 0.2859674168904517, 0.21216937382194803, 0.06457328768494071, 0.07379804306850365, 0.3310412398962863, 0.11034707996542877, 0.2427635759239433, 0.022069415993085754, 0.2869024079101148, 0.30277582506053224, 0.18632358465263524, 0.1397426884894764, 0.0698713442447382, 0.2794853769789528, 0.2649270899231732, 0.3184761825672189, 0.12119005177336648, 0.14373703814980676, 0.14937378474391683, 0.41776823008768005, 0.2992966424508752, 0.10600089420135164, 0.08105950733044538, 0.0935302007658985, 0.24991963185388355, 0.19438193588635386, 0.1388442399188242, 0.2776884798376484, 0.1388442399188242, 0.38071039171901816, 0.3566147973064221, 0.110839734297942, 0.07710590212030748, 0.07710590212030748, 0.8663135516863778, 0.1852225909994342, 0.4467133077045178, 0.16343169794067725, 0.1198499118231633, 0.07626812570564938, 0.43927194011183723, 0.21888635923661515, 0.10644473634109367, 0.17990659663283437, 0.055471200628457264, 0.6077159136856782, 0.0467473779758214, 0.1402421339274642, 0.0934947559516428, 0.0934947559516428, 0.1535638216871392, 0.287932165663386, 0.49908242048320234, 0.0191954777108924, 0.0383909554217848, 0.7355647337242845, 0.19593579648793713, 0.5038349052546955, 0.13995414034852652, 0.08397248420911592, 0.07464220818588081, 0.566850501513068, 0.10003244144348258, 0.06668829429565505, 0.1333765885913101, 0.1333765885913101, 0.7371423151665869, 0.7246382452783074, 0.32529599500593404, 0.6505919900118681, 0.8171533761627293, 0.36937592462336877, 0.2500390874373573, 0.21026014170868682, 0.07387518492467375, 0.0966060110553426, 0.8207783166953397, 0.1214214228765791, 0.2428428457531582, 0.1214214228765791, 0.4856856915063164, 0.06071071143828955, 0.7254995181841215, 0.878123859870692, 0.4240668978189319, 0.41011573844908067, 0.12352325985687564, 0.6176162992843782, 0.12352325985687564, 0.12352325985687564, 0.8666277460577206, 0.7693295461819564, 0.1538659092363913, 0.18623733990039, 0.24831645320051998, 0.37247467980078, 0.093118669950195, 0.093118669950195, 0.22633053176107704, 0.45846441049038683, 0.15088702117405137, 0.08705020452349117, 0.08124685755525843, 0.31271478458948243, 0.22852234258462178, 0.3247422763044625, 0.07216495028988057, 0.06013745857490047, 0.3424056895382944, 0.5136085343074416, 0.8208019089366845, 0.25058878695843384, 0.5011775739168677, 0.18276561072905526, 0.3249166412960982, 0.19630380411639267, 0.1624583206480491, 0.13538193387337427, 0.648979487437742, 0.1622448718594355, 0.7247631406250177, 0.7395871408150386, 0.4252776111595113, 0.7353341228244694, 0.8385842853422559, 0.30009170493658, 0.60018340987316, 0.6723626163747648, 0.6180790560361586, 0.19645708231403164, 0.23329278524791255, 0.12278567644626977, 0.3192427587603014, 0.14734281173552372, 0.11307444928773791, 0.11307444928773791, 0.11307444928773791, 0.11307444928773791, 0.45229779715095164, 0.3017857421844448, 0.6035714843688896, 0.6546358323576467, 0.6286154100685387, 0.5018134720932741, 0.25090673604663705, 0.5005179185276597, 0.18590665545313076, 0.10010358370553195, 0.11440409566346509, 0.10010358370553195, 0.7286844285618376, 0.3342454381766028, 0.17935121072890883, 0.11413258864566925, 0.14674189968728904, 0.2282651772913385, 0.6387329874851024, 0.16061465509866643, 0.550678817481142, 0.11472475364190458, 0.09177980291352367, 0.06883485218514275, 0.8080106545616633, 0.2693368848538878, 0.1128152804722933, 0.2256305609445866, 0.1128152804722933, 0.1128152804722933, 0.4512611218891732, 0.519158289408782, 0.2915820529556173, 0.08534108866993677, 0.07111757389161397, 0.032002908251226286, 0.8667630481781501, 0.8208030707256881, 0.3099547475599751, 0.6199094951199502, 0.06490459760713185, 0.19471379282139556, 0.2596183904285274, 0.3894275856427911, 0.06490459760713185, 0.7352666652876269, 0.26773493792294867, 0.2175346370623958, 0.16733433620184293, 0.10040060172110575, 0.2342680706825801, 0.505743327589704, 0.2583688738773488, 0.09894978148494209, 0.04397768065997426, 0.09894978148494209, 0.2970077171741006, 0.16971869552805752, 0.08485934776402876, 0.3818670649381294, 0.08485934776402876, 0.7960349667352146, 0.17099407646152548, 0.19379328665639553, 0.23939170704613566, 0.28499012743587576, 0.11399605097435031, 0.8207623607099973, 0.20995311352688598, 0.629859340580658, 0.24533648921212084, 0.20444707434343404, 0.3475600263838378, 0.1328905983232321, 0.06133412230303021, 0.7274987284171529, 0.6244569493834479, 0.2081523164611493, 0.806338232128542, 0.30554574151889613, 0.6110914830377923, 0.25207551027802305, 0.3853154228535495, 0.15844746360332876, 0.07562265308340692, 0.12603775513901153, 0.636547847667122, 0.42306193013185617, 0.7247312960918596, 0.6449717833306698, 0.16124294583266746, 0.7360624945729245, 0.16879907519580165, 0.5345304047867052, 0.15473248559615152, 0.08439953759790082, 0.05626635839860055, 0.255156003845242, 0.510312007690484, 0.6245830056635798, 0.1617079454174949, 0.6237306466103374, 0.11550567529821064, 0.0924045402385685, 0.023101135059642126, 0.3190924341734643, 0.6381848683469286, 0.2693819274052662, 0.192415662432333, 0.32710662613496605, 0.15393252994586637, 0.057724698729699896, 0.42500292559175407, 0.11128339561292497, 0.6677003736775498, 0.11128339561292497, 0.11128339561292497, 0.5683691872983836, 0.22103246172714916, 0.09472819788306393, 0.06315213192204262, 0.06315213192204262, 0.2568740023943883, 0.29852924602591074, 0.09719556847355233, 0.15967843392083597, 0.18744859634185093, 0.6365528805661547, 0.41294295677851567, 0.7398212679738149, 0.625934092475227, 0.8232120997051234, 0.7246879261213893, 0.6398897197907146, 0.3199448598953573, 0.28509409226131804, 0.3369293817633759, 0.15550586850617348, 0.0835124108644265, 0.1382274386721542, 0.2535495988749768, 0.5433205690178075, 0.10866411380356149, 0.054332056901780744, 0.03622137126785383, 0.6716009447321989, 0.22386698157739962, 0.8062245962310296, 0.40180303107656395, 0.0803606062153128, 0.0803606062153128, 0.40180303107656395, 0.4261755651038321, 0.4207045970615804, 0.41967972153008687, 0.41967972153008687, 0.1826522861998813, 0.467374967629108, 0.09132614309994065, 0.11281464735875021, 0.15041952981166695, 0.4808134182286707, 0.18492823778025796, 0.13561404103885583, 0.1232854918535053, 0.08629984429745371, 0.6245865093338606, 0.6365535605890207, 0.4114555296265245, 0.3646231929210664, 0.09031950650338343, 0.07024850505818711, 0.06355817124312167, 0.6245824040717906, 0.7280196620610737, 0.4170956602668147, 0.7279198025748627, 0.6245759757371094, 0.25896898223130066, 0.35967914198791756, 0.07193582839758351, 0.23019465087226723, 0.07193582839758351, 0.23214490094381876, 0.1702395940254671, 0.2630975544029946, 0.0928579603775275, 0.2476212276734067, 0.43157253665067924, 0.2186892226077433, 0.13547119984550468, 0.10644165702146798, 0.10644165702146798, 0.5226483893582716, 0.14254046982498317, 0.19005395976664421, 0.06335131992221474, 0.06335131992221474, 0.4011812265246766, 0.19342666278868334, 0.25073826657792286, 0.06447555426289445, 0.09313135615751421, 0.927174014916298, 0.39161468998561655, 0.2596097383050716, 0.1672062721286902, 0.1188044565124904, 0.06600247584027245, 0.29224657784702707, 0.3749578734641102, 0.132338072987333, 0.1268239866128608, 0.07168312286813872, 0.825387342342187, 0.3535212621411147, 0.2553209115463606, 0.09820035059475409, 0.22586080636793437, 0.05892021035685245, 0.24697031260058142, 0.4376140626782232, 0.125651562551173, 0.125651562551173, 0.060659375024704205, 0.2943874711466641, 0.20607122980266485, 0.08831624134399922, 0.38270371249066326, 0.029438747114666406, 0.24547819240441496, 0.4909563848088299, 0.24547819240441496, 0.24904144628098443, 0.3240368818087809, 0.19951615866828867, 0.13513328477178418, 0.09197553413786357, 0.6893533470619563, 0.11489222451032605, 0.05744611225516302, 0.11489222451032605, 0.13875909732888225, 0.37118058535476006, 0.1665109167946587, 0.1283521650292161, 0.19773171369365722, 0.8067100170733416, 0.18337044015343837, 0.28524290690534854, 0.32599189360611264, 0.1018724667519102, 0.12224696010229225, 0.28195115583343977, 0.28835913664783613, 0.1986474052462871, 0.09611971221594537, 0.14097557791671989, 0.7356928914424054, 0.16679099048827137, 0.5504102686112956, 0.10007459429296282, 0.05003729714648141, 0.15011189143944423, 0.2553149140273338, 0.21884135488057183, 0.32826203232085777, 0.054710338720142956, 0.1458942365870479, 0.31662340592599875, 0.6332468118519975, 0.8099567564839518, 0.27017769704554734, 0.13508884852277367, 0.405266545568321, 0.13508884852277367, 0.06754442426138683, 0.6837888043545592, 0.13675776087091185, 0.13675776087091185, 0.1369854037306393, 0.2864240259822458, 0.43586264823385235, 0.06226609260483605, 0.08717252964677047, 0.4096654545341228, 0.4096654545341228, 0.28179946335117245, 0.42791770360733594, 0.08349613728923627, 0.11480718877269988, 0.08349613728923627, 0.2599957320378176, 0.43612187309569406, 0.10903046827392351, 0.07548263188194704, 0.11741742737191763, 0.28234003028995713, 0.20750291382755887, 0.09864892624588864, 0.05442699379083511, 0.3571771467523554, 0.24621805170408204, 0.3626120397823754, 0.20145113321243077, 0.04924361034081641, 0.1432541391732841, 0.11544439933252255, 0.3463331979975677, 0.19790468457003865, 0.26387291276005154, 0.08246028523751611], \"Term\": [\"!!!\", \"!!!\", \"!!!\", \"\\\"suction\\\"\", \"\\\"upgraded\\\"\", \"$.\", \"&\", \"&\", \"&\", \"&\", \"&\", \"(cats\", \"(crevice\", \"(with\", \"(with\", \"(with\", \",,\", \"-\", \"-\", \"-\", \"-\", \"-\", \".\", \".\", \".\", \".\", \".\", \"1900\", \"2\", \"2\", \"2\", \"2\", \"2\", \"21st\", \"3\", \"3\", \"3\", \"3\", \"3\", \"30\", \"30\", \"30\", \"30\", \"30\", \"5th\", \"5th\", \"700\", \"[including\", \"able\", \"able\", \"able\", \"able\", \"able\", \"absolute\", \"absolute\", \"absolute\", \"absolute\", \"absolute\", \"accessories,\", \"accidentally\", \"afire.\", \"amazing\", \"amazing\", \"amazing\", \"amazing\", \"amazing\", \"animals,\", \"anyone.\", \"appliance.\", \"appliance.\", \"apply\", \"appreciated\", \"attachments\", \"attachments\", \"attachments\", \"attachments\", \"attachments\", \"attachments!\", \"available.\", \"awesome\", \"awesome\", \"awesome\", \"awesome\", \"awesome\", \"awesome!!!\", \"awkward\", \"awkward\", \"awkward\", \"awkward\", \"awkward\", \"balanced.\", \"ball\", \"ball\", \"ball\", \"ball\", \"ball\", \"bar.\", \"bar.\", \"basement.\", \"basement.\", \"basement.\", \"basement.\", \"basket\", \"battery\", \"battery\", \"battery\", \"battery\", \"battery\", \"beautiful\", \"beautiful\", \"beautiful\", \"believe\", \"believe\", \"believe\", \"believe\", \"believe\", \"best\", \"best\", \"best\", \"best\", \"best\", \"best!!\", \"bird\", \"bit\", \"bit\", \"bit\", \"bit\", \"bit\", \"bite\", \"blue\", \"blue\", \"blue\", \"bothered\", \"bottom,\", \"bought\", \"bought\", \"bought\", \"bought\", \"bought\", \"bread\", \"bread\", \"broom,\", \"brushbar\", \"brushbar\", \"burn\", \"buy\", \"buy\", \"buy\", \"buy\", \"buy\", \"canister\", \"canister\", \"canister\", \"canister\", \"canister\", \"car).\", \"carpel\", \"carpet\", \"carpet\", \"carpet\", \"carpet\", \"carpet\", \"carpet.\", \"carpet.\", \"carpet.\", \"carpet.\", \"carpet.\", \"carpets\", \"carpets\", \"carpets\", \"carpets\", \"carpets\", \"cars,\", \"cars,\", \"changed.\", \"charge\", \"charge\", \"charge\", \"charge\", \"charge\", \"charged\", \"charged\", \"charged\", \"charged\", \"charged\", \"charged,\", \"charged,\", \"clean\", \"clean\", \"clean\", \"clean\", \"clean\", \"cleaner\", \"cleaner\", \"cleaner\", \"cleaner\", \"cleaner\", \"cleaner!\", \"cleaner!\", \"cleaner!\", \"cleaner!\", \"cleaner!!\", \"cleaning\", \"cleaning\", \"cleaning\", \"cleaning\", \"cleaning\", \"cleans\", \"cleans\", \"cleans\", \"cleans\", \"cleans\", \"cleans!\", \"cleanup.\", \"confident\", \"constantly.\", \"controller...\", \"convenience.\", \"convenience.\", \"convenient\", \"convenient\", \"convenient\", \"convenient\", \"convenient\", \"cord\", \"cord\", \"cord\", \"cord\", \"cord\", \"cordless\", \"cordless\", \"cordless\", \"cordless\", \"cordless\", \"cordlessly.\", \"costco\", \"costco\", \"costco\", \"costco\", \"costco,\", \"costco,\", \"couch.\", \"credit\", \"crosswave\", \"cyllinder,\", \"damn\", \"day...\", \"deals\", \"definitely\", \"definitely\", \"definitely\", \"definitely\", \"definitely\", \"delivery.\", \"delivery.\", \"deposited\", \"died\", \"died\", \"died\", \"died\", \"died\", \"dirt\", \"dirt\", \"dirt\", \"dirt\", \"dirt\", \"dispose\", \"dog\", \"dog\", \"dog\", \"dog\", \"dog\", \"don't\", \"don't\", \"don't\", \"don't\", \"don't\", \"dust\", \"dust\", \"dust\", \"dust\", \"dust\", \"duster,\", \"duster,\", \"dyson\", \"dyson\", \"dyson\", \"dyson\", \"dyson\", \"dyson!!!\", \"dyson!!!\", \"dyson,\", \"dyson,\", \"dyson,\", \"dyson,\", \"dyson,\", \"easily\", \"easily\", \"easily\", \"easily\", \"easily\", \"east\", \"easy\", \"easy\", \"easy\", \"easy\", \"easy\", \"else!\", \"entry\", \"ever!\", \"ever!\", \"everyday.\", \"everyday.\", \"everyday.\", \"everyone.\", \"everything,\", \"everything,\", \"everything,\", \"excellent.\", \"excellent.\", \"excellent.\", \"excellent.\", \"exhausting\", \"explosion\", \"explosion\", \"extension\", \"extension\", \"extension\", \"extension\", \"extension\", \"eye\", \"eye\", \"eye\", \"fabulous.\", \"fail\", \"flimsy,\", \"floor\", \"floor\", \"floor\", \"floor\", \"floor\", \"floors\", \"floors\", \"floors\", \"floors\", \"floors\", \"fuzz\", \"go-to\", \"goes\", \"goes\", \"goes\", \"goes\", \"goes\", \"gone!\", \"good\", \"good\", \"good\", \"good\", \"good\", \"good!\", \"good!\", \"good!\", \"good!!\", \"goodgood\", \"good~\", \"got\", \"got\", \"got\", \"got\", \"got\", \"granny\", \"great\", \"great\", \"great\", \"great\", \"great\", \"hair\", \"hair\", \"hair\", \"hair\", \"hair\", \"hard\", \"hard\", \"hard\", \"hard\", \"hard\", \"hard,\", \"hardwood\", \"hardwood\", \"hardwood\", \"hardwood\", \"hardwood\", \"hefty\", \"highly\", \"highly\", \"highly\", \"highly\", \"highly\", \"hours,\", \"house\", \"house\", \"house\", \"house\", \"house\", \"hygienic\", \"hyper\", \"i'm\", \"i'm\", \"i'm\", \"i'm\", \"i'm\", \"i've\", \"i've\", \"i've\", \"i've\", \"i've\", \"immediately.\", \"incredible.\", \"incredible.\", \"incredible.\", \"incredible.\", \"incredible.\", \"inner\", \"inner\", \"install\", \"install\", \"install\", \"intended\", \"internet\", \"it!\", \"it!\", \"it!\", \"it!\", \"it!\", \"it's\", \"it's\", \"it's\", \"it's\", \"it's\", \"it.\", \"it.\", \"it.\", \"it.\", \"it.\", \"it\\u2019s\", \"it\\u2019s\", \"it\\u2019s\", \"it\\u2019s\", \"it\\u2019s\", \"ive\", \"ive\", \"job\", \"job\", \"job\", \"job\", \"job\", \"keeping\", \"keeping\", \"keeping\", \"keeping\", \"keeping\", \"last,\", \"later,\", \"lean\", \"lean\", \"life\", \"life\", \"life\", \"life\", \"life\", \"light\", \"light\", \"light\", \"light\", \"light\", \"light,\", \"light,\", \"light,\", \"light,\", \"light,\", \"lightweight,\", \"lightweight,\", \"lightweight,\", \"lightweight,\", \"lightweight,\", \"like\", \"like\", \"like\", \"like\", \"like\", \"little\", \"little\", \"little\", \"little\", \"little\", \"live\", \"live\", \"live\", \"live\", \"live\", \"long\", \"long\", \"long\", \"long\", \"long\", \"long!\", \"lot\", \"lot\", \"lot\", \"lot\", \"lot\", \"love\", \"love\", \"love\", \"love\", \"love\", \"love,\", \"love,\", \"love,\", \"love,\", \"love,\", \"loves\", \"loves\", \"loves\", \"loves\", \"loves\", \"luv\", \"machine\", \"machine\", \"machine\", \"machine\", \"machine\", \"machine.\", \"machine.\", \"machine.\", \"machine.\", \"machine.\", \"magical.\", \"maneuverable.\", \"mats,\", \"mats,\", \"messes,\", \"minutes\", \"minutes\", \"minutes\", \"minutes\", \"minutes\", \"money?\", \"motorhead\", \"motorhead\", \"motorhead\", \"motorhead\", \"motorhead\", \"mot\\u00f6rhead\", \"mouth\", \"movement\", \"multi-floor\", \"need.\", \"need.\", \"need.\", \"need.\", \"need?\", \"needless\", \"needless\", \"needs\", \"needs\", \"needs\", \"needs\", \"needs\", \"new\", \"new\", \"new\", \"new\", \"new\", \"nice\", \"nice\", \"nice\", \"nice\", \"nice\", \"nice,\", \"nice,\", \"nothing.\", \"often,\", \"often,\", \"old\", \"old\", \"old\", \"old\", \"old\", \"one!\", \"one!\", \"operate!\", \"ot\", \"otherwise,\", \"outside.\", \"over-priced\", \"own.\", \"own.\", \"owned!\", \"owner.\", \"perfect\", \"perfect\", \"perfect\", \"perfect\", \"perfect\", \"perfectly\", \"perfectly\", \"perfectly\", \"perfectly\", \"perfectly\", \"perfectly,\", \"perfectly,\", \"perform\", \"pergo\", \"persian\", \"persian\", \"pet\", \"pet\", \"pet\", \"pet\", \"pet\", \"pick-ups\", \"picks\", \"picks\", \"picks\", \"picks\", \"picks\", \"place,\", \"plastic\", \"plastic\", \"plastic\", \"plastic\", \"plastic\", \"portability,\", \"portability,\", \"position\", \"position\", \"position\", \"position\", \"position\", \"power\", \"power\", \"power\", \"power\", \"power\", \"powerfull\", \"priced.\", \"prices\", \"prices\", \"prior\", \"prior\", \"prior\", \"prior\", \"prior\", \"probability\", \"problem\", \"problem\", \"problem\", \"problem\", \"problem\", \"product\", \"product\", \"product\", \"product\", \"product\", \"product!\", \"product!\", \"product!\", \"product!\", \"product!\", \"product!!\", \"product.\", \"product.\", \"product.\", \"product.\", \"product.\", \"product...i\", \"pros:\", \"pros:\", \"purchased\", \"purchased\", \"purchased\", \"purchased\", \"purchased\", \"purchased!\", \"purple\", \"purple\", \"quality,\", \"rainbow\", \"rainbow\", \"really\", \"really\", \"really\", \"really\", \"really\", \"removal.\", \"repairs,\", \"reputation.\", \"ridiculously\", \"ridiculously\", \"rocks!\", \"room\", \"room\", \"room\", \"room\", \"room\", \"round\", \"round\", \"rv's.\", \"said\", \"said\", \"said\", \"said\", \"said\", \"satisfactory.\", \"satisfactory.\", \"second\", \"second\", \"second\", \"second\", \"second\", \"setting!\", \"shocked\", \"shocked\", \"shocked\", \"shocked\", \"size\", \"size\", \"size\", \"size\", \"size\", \"small\", \"small\", \"small\", \"small\", \"small\", \"small/easy\", \"smoothly,\", \"softer\", \"sole\", \"soooooo\", \"south\", \"storage,\", \"storage,\", \"suction\", \"suction\", \"suction\", \"suction\", \"suction\", \"sure\", \"sure\", \"sure\", \"sure\", \"sure\", \"swing\", \"swing\", \"taxes\", \"thanks\", \"thanks\", \"thanks\", \"thanks\", \"that?\", \"themselves.\", \"they've\", \"they've\", \"thing\", \"thing\", \"thing\", \"thing\", \"thing\", \"thought\", \"thought\", \"thought\", \"thought\", \"thought\", \"thyroid\", \"tilting\", \"time\", \"time\", \"time\", \"time\", \"time\", \"trailers\", \"true!\", \"tunnel,\", \"unboxing\", \"unfixable.\", \"up.\", \"up.\", \"up.\", \"up.\", \"up.\", \"upright\", \"upright\", \"upright\", \"upright\", \"upright\", \"use\", \"use\", \"use\", \"use\", \"use\", \"use,\", \"use,\", \"use,\", \"use,\", \"use,\", \"use.\", \"use.\", \"use.\", \"use.\", \"use.\", \"use.fine\", \"used\", \"used\", \"used\", \"used\", \"used\", \"using\", \"using\", \"using\", \"using\", \"using\", \"v&\", \"v6\", \"v6\", \"v6\", \"v6\", \"v6\", \"v8\", \"v8\", \"v8\", \"v8\", \"v8\", \"v8.\", \"v8.\", \"v8.\", \"v8.\", \"v8.\", \"vacumn\", \"vacumn\", \"vacumn\", \"vacuum\", \"vacuum\", \"vacuum\", \"vacuum\", \"vacuum\", \"vacuum!!\", \"vacuum!!\", \"vacuum!!\", \"vacuum!!\", \"vacuum.\", \"vacuum.\", \"vacuum.\", \"vacuum.\", \"vacuum.\", \"vacuum..\", \"vacuumed\", \"vacuumed\", \"vacuumed\", \"vacuumed\", \"vacuumed\", \"vacuuming\", \"vacuuming\", \"vacuuming\", \"vacuuming\", \"vacuuming\", \"verry\", \"wanted\", \"wanted\", \"wanted\", \"wanted\", \"wanted\", \"way\", \"way\", \"way\", \"way\", \"way\", \"way!\", \"way!\", \"we'd\", \"weight,\", \"weight,\", \"weight,\", \"weight,\", \"weight,\", \"while.\", \"while.\", \"while.\", \"wife\", \"wife\", \"wife\", \"wife\", \"wife\", \"wise.\", \"wise.\", \"wish\", \"wish\", \"wish\", \"wish\", \"wish\", \"work\", \"work\", \"work\", \"work\", \"work\", \"works\", \"works\", \"works\", \"works\", \"works\", \"worth\", \"worth\", \"worth\", \"worth\", \"worth\", \"year\", \"year\", \"year\", \"year\", \"year\"]}, \"R\": 30, \"lambda.step\": 0.01, \"plot.opts\": {\"xlab\": \"PC1\", \"ylab\": \"PC2\"}, \"topic.order\": [2, 5, 1, 4, 3]};\n",
       "\n",
       "function LDAvis_load_lib(url, callback){\n",
       "  var s = document.createElement('script');\n",
       "  s.src = url;\n",
       "  s.async = true;\n",
       "  s.onreadystatechange = s.onload = callback;\n",
       "  s.onerror = function(){console.warn(\"failed to load library \" + url);};\n",
       "  document.getElementsByTagName(\"head\")[0].appendChild(s);\n",
       "}\n",
       "\n",
       "if(typeof(LDAvis) !== \"undefined\"){\n",
       "   // already loaded: just create the visualization\n",
       "   !function(LDAvis){\n",
       "       new LDAvis(\"#\" + \"ldavis_el764751757642165507948411\", ldavis_el764751757642165507948411_data);\n",
       "   }(LDAvis);\n",
       "}else if(typeof define === \"function\" && define.amd){\n",
       "   // require.js is available: use it to load d3/LDAvis\n",
       "   require.config({paths: {d3: \"https://cdnjs.cloudflare.com/ajax/libs/d3/3.5.5/d3.min\"}});\n",
       "   require([\"d3\"], function(d3){\n",
       "      window.d3 = d3;\n",
       "      LDAvis_load_lib(\"https://cdn.rawgit.com/bmabey/pyLDAvis/files/ldavis.v1.0.0.js\", function(){\n",
       "        new LDAvis(\"#\" + \"ldavis_el764751757642165507948411\", ldavis_el764751757642165507948411_data);\n",
       "      });\n",
       "    });\n",
       "}else{\n",
       "    // require.js not available: dynamically load d3 & LDAvis\n",
       "    LDAvis_load_lib(\"https://cdnjs.cloudflare.com/ajax/libs/d3/3.5.5/d3.min.js\", function(){\n",
       "         LDAvis_load_lib(\"https://cdn.rawgit.com/bmabey/pyLDAvis/files/ldavis.v1.0.0.js\", function(){\n",
       "                 new LDAvis(\"#\" + \"ldavis_el764751757642165507948411\", ldavis_el764751757642165507948411_data);\n",
       "            })\n",
       "         });\n",
       "}\n",
       "</script>"
      ],
      "text/plain": [
       "<IPython.core.display.HTML object>"
      ]
     },
     "execution_count": 196,
     "metadata": {},
     "output_type": "execute_result"
    }
   ],
   "source": [
    "pyLDAvis.display(LDAvis_prepared)"
   ]
  },
  {
   "cell_type": "markdown",
   "metadata": {},
   "source": [
    "- On the left, there is a plot of the \"distance\" between all of the topics (labeled as the Intertopic Distance Map)  \n",
    "    - The plot is rendered in two dimensions according a multidimensional scaling (MDS) algorithm. Topics that are generally similar should be appear close together on the plot, while dissimilar topics should appear far apart.  \n",
    "    - The relative size of a topic's circle in the plot corresponds to the relative frequency of the topic in the corpus.\n",
    "    - An individual topic may be selected for closer scrutiny by clicking on its circle, or entering its number in the \"selected topic\" box in the upper-left.  \n",
    "- On the right, there is a bar chart showing top terms.  \n",
    "    - When no topic is selected in the plot on the left, the bar chart shows the top-30 most \"salient\" terms in the corpus. A term's saliency is a measure of both how frequent the term is in the corpus and how \"distinctive\" it is in distinguishing between different topics.  \n",
    "    - When a particular topic is selected, the bar chart changes to show the top-30 most \"relevant\" terms for the selected topic. The relevance metric is controlled by the parameter λ, which can be adjusted with a slider above the bar chart.\n",
    "        - Setting the λ parameter close to 1.0 (the default) will rank the terms solely according to their probability within the topic.\n",
    "        - Setting λ close to 0.0 will rank the terms solely according to their \"distinctiveness\" or \"exclusivity\" within the topic — i.e., terms that occur only in this topic, and do not occur in other topics.\n",
    "        - Setting λ to values between 0.0 and 1.0 will result in an intermediate ranking, weighting term probability and exclusivity accordingly."
   ]
  },
  {
   "cell_type": "code",
   "execution_count": 200,
   "metadata": {
    "ExecuteTime": {
     "end_time": "2018-04-09T14:02:01.570371Z",
     "start_time": "2018-04-09T14:01:48.112072Z"
    }
   },
   "outputs": [],
   "source": [
    "w2v = Word2Vec(comments, size=100, window=5,min_count=20, sg=1, workers=4)"
   ]
  },
  {
   "cell_type": "code",
   "execution_count": 205,
   "metadata": {
    "ExecuteTime": {
     "end_time": "2018-04-09T14:03:29.935844Z",
     "start_time": "2018-04-09T14:03:29.930519Z"
    }
   },
   "outputs": [],
   "source": [
    "def get_related_terms(token, topn=10):\n",
    "    \"\"\"\n",
    "    look up the topn most similar terms to token and print them as a formatted list\n",
    "    \"\"\"\n",
    "    for word, similarity in w2v.most_similar(positive=[token], topn=topn):\n",
    "        print ('{:20} {}'.format(word, round(similarity, 3)))"
   ]
  },
  {
   "cell_type": "code",
   "execution_count": 209,
   "metadata": {
    "ExecuteTime": {
     "end_time": "2018-04-09T14:05:02.727771Z",
     "start_time": "2018-04-09T14:05:02.714086Z"
    }
   },
   "outputs": [
    {
     "name": "stdout",
     "output_type": "stream",
     "text": [
      "vac                  0.992\n",
      "heavy                0.99\n",
      "stick                0.989\n",
      "owned.               0.988\n",
      "cleaner              0.988\n",
      "needed               0.987\n",
      "powerful,            0.987\n",
      "cleaner.             0.985\n",
      "vacuum.              0.985\n",
      "ball                 0.984\n"
     ]
    }
   ],
   "source": [
    "get_related_terms('vacuum')"
   ]
  },
  {
   "cell_type": "code",
   "execution_count": 119,
   "metadata": {
    "ExecuteTime": {
     "end_time": "2018-04-02T14:39:26.872794Z",
     "start_time": "2018-04-02T14:39:26.580831Z"
    }
   },
   "outputs": [],
   "source": [
    "from wordcloud import (WordCloud, get_single_color_func)"
   ]
  },
  {
   "cell_type": "code",
   "execution_count": null,
   "metadata": {},
   "outputs": [],
   "source": []
  }
 ],
 "metadata": {
  "kernelspec": {
   "display_name": "Python [default]",
   "language": "python",
   "name": "python3"
  },
  "language_info": {
   "codemirror_mode": {
    "name": "ipython",
    "version": 3
   },
   "file_extension": ".py",
   "mimetype": "text/x-python",
   "name": "python",
   "nbconvert_exporter": "python",
   "pygments_lexer": "ipython3",
   "version": "3.6.3"
  },
  "toc": {
   "nav_menu": {},
   "number_sections": true,
   "sideBar": true,
   "skip_h1_title": false,
   "toc_cell": false,
   "toc_position": {},
   "toc_section_display": "block",
   "toc_window_display": false
  },
  "varInspector": {
   "cols": {
    "lenName": 16,
    "lenType": 16,
    "lenVar": 40
   },
   "kernels_config": {
    "python": {
     "delete_cmd_postfix": "",
     "delete_cmd_prefix": "del ",
     "library": "var_list.py",
     "varRefreshCmd": "print(var_dic_list())"
    },
    "r": {
     "delete_cmd_postfix": ") ",
     "delete_cmd_prefix": "rm(",
     "library": "var_list.r",
     "varRefreshCmd": "cat(var_dic_list()) "
    }
   },
   "types_to_exclude": [
    "module",
    "function",
    "builtin_function_or_method",
    "instance",
    "_Feature"
   ],
   "window_display": false
  }
 },
 "nbformat": 4,
 "nbformat_minor": 2
}
