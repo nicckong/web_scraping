{
 "cells": [
  {
   "cell_type": "code",
   "execution_count": 1,
   "metadata": {
    "ExecuteTime": {
     "end_time": "2018-05-10T14:25:43.903959Z",
     "start_time": "2018-05-10T14:25:43.895950Z"
    }
   },
   "outputs": [],
   "source": [
    "test = ['taplc_airline_detail_review_results_description_0', 'taplc_war_review_rating_pseudo_0', \n",
    "        'review_579166625', 'review_579166583', 'review_579151809', 'review_579137884', 'review_579137312', \n",
    "        'review_579111190', 'review_579049402', 'review_579015973', 'review_578981929', 'review_578907846', \n",
    "        'taplc_airline_detail_review_no_results_0']"
   ]
  },
  {
   "cell_type": "code",
   "execution_count": 4,
   "metadata": {
    "ExecuteTime": {
     "end_time": "2018-05-10T14:27:18.496536Z",
     "start_time": "2018-05-10T14:27:18.484523Z"
    }
   },
   "outputs": [
    {
     "data": {
      "text/plain": [
       "['review_579166625',\n",
       " 'review_579166583',\n",
       " 'review_579151809',\n",
       " 'review_579137884',\n",
       " 'review_579137312',\n",
       " 'review_579111190',\n",
       " 'review_579049402',\n",
       " 'review_579015973',\n",
       " 'review_578981929',\n",
       " 'review_578907846']"
      ]
     },
     "execution_count": 4,
     "metadata": {},
     "output_type": "execute_result"
    }
   ],
   "source": [
    "[x for x in test if x[: 7] == 'review_']"
   ]
  },
  {
   "cell_type": "code",
   "execution_count": null,
   "metadata": {},
   "outputs": [],
   "source": []
  }
 ],
 "metadata": {
  "kernelspec": {
   "display_name": "Python [default]",
   "language": "python",
   "name": "python3"
  },
  "language_info": {
   "codemirror_mode": {
    "name": "ipython",
    "version": 3
   },
   "file_extension": ".py",
   "mimetype": "text/x-python",
   "name": "python",
   "nbconvert_exporter": "python",
   "pygments_lexer": "ipython3",
   "version": "3.6.3"
  },
  "toc": {
   "nav_menu": {},
   "number_sections": true,
   "sideBar": true,
   "skip_h1_title": false,
   "toc_cell": false,
   "toc_position": {},
   "toc_section_display": "block",
   "toc_window_display": false
  },
  "varInspector": {
   "cols": {
    "lenName": 16,
    "lenType": 16,
    "lenVar": 40
   },
   "kernels_config": {
    "python": {
     "delete_cmd_postfix": "",
     "delete_cmd_prefix": "del ",
     "library": "var_list.py",
     "varRefreshCmd": "print(var_dic_list())"
    },
    "r": {
     "delete_cmd_postfix": ") ",
     "delete_cmd_prefix": "rm(",
     "library": "var_list.r",
     "varRefreshCmd": "cat(var_dic_list()) "
    }
   },
   "types_to_exclude": [
    "module",
    "function",
    "builtin_function_or_method",
    "instance",
    "_Feature"
   ],
   "window_display": false
  }
 },
 "nbformat": 4,
 "nbformat_minor": 2
}
